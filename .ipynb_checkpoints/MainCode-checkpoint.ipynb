{
 "cells": [
  {
   "cell_type": "markdown",
   "id": "d75f7df1",
   "metadata": {},
   "source": [
    "# Data Loading and Preprocessing for RNA Sequences\n",
    "\n",
    "### Description:\n",
    "### Load Data Function (load_data):\n",
    "- This function takes a file path and a column name as inputs. It reads the data from the specified CSV file into a dataframe (a table-like structure in Python).\n",
    "- It checks if there are any missing values in the specified column that contains RNA sequences. If missing values are found, it removes those rows from the dataframe to ensure that the analysis is done only on complete data.\n",
    "### One-Hot Encoding Function (one_hot_encode):\n",
    "- This function takes an RNA sequence as input. RNA sequences are made up of nucleotides represented by the letters A, C, G, and U.\n",
    "- It checks if the input sequence is in the correct format (i.e., it's a string). If it’s not, the function returns None, which is a way of indicating missing or incorrect data.\n",
    "- The sequence is then converted to uppercase and any occurrence of 'T' (thymine, which is found in DNA but not RNA) is replaced with 'U' (uracil, which is specific to RNA).\n",
    "- The function then converts the sequence into a one-hot encoded format. This means each nucleotide (A, C, G, U) is represented as a vector (a list of numbers). For example, \n",
    "A is represented as [1, 0, 0, 0], C as [0, 1, 0, 0], G as [0, 0, 1, 0], and U as [0, 0, 0, 1]. This numerical representation is useful for computational models that require numeric input.\n",
    "### Loading Specific Datasets (ENCORI and LncBase):\n",
    "- The code then loads two datasets from CSV files: one called ENCORI_miRNA_lncRNA.csv and another called lncbase_with_sequences.csv. These datasets contain RNA sequences along with other biological information.\n",
    "It applies the one-hot encoding function to specific columns in these datasets that contain RNA sequences. This prepares the data for further analysis or modeling, where understanding the relationships between sequences can be crucial, such as predicting RNA interactions or functions."
   ]
  },
  {
   "cell_type": "code",
   "execution_count": 2,
   "id": "1c214b7e-a987-46ff-ab0d-916028376521",
   "metadata": {},
   "outputs": [],
   "source": [
    "import pandas as pd\n",
    "import numpy as np \n",
    "import tensorflow as tf\n",
    "from tensorflow.keras.models import Model\n",
    "from tensorflow.keras.layers import Input, Dense, Embedding, GlobalAveragePooling1D, Dropout, LayerNormalization\n",
    "from tensorflow.keras.optimizers import Adam"
   ]
  },
  {
   "cell_type": "code",
   "execution_count": 3,
   "id": "5094c137-fcfb-4c2b-929f-803e17baebfd",
   "metadata": {},
   "outputs": [],
   "source": [
    "import pandas as pd\n",
    "\n",
    "def load_data(file_path, sequence_column, structure_column):\n",
    "    df = pd.read_csv(file_path)\n",
    "    df.dropna(subset=[sequence_column, structure_column], inplace=True)\n",
    "    return df\n"
   ]
  },
  {
   "cell_type": "markdown",
   "id": "b2897463-3b5d-4167-bda4-56c7a5a42842",
   "metadata": {},
   "source": [
    "## Step 2: One-hot Encoding of RNA Sequences\n",
    "- For one-hot encoding RNA sequences, convert each nucleotide into a vector. This part of the code will also be modified to handle sequences directly without conversion, ready to be passed into an embedding layer later."
   ]
  },
  {
   "cell_type": "code",
   "execution_count": 4,
   "id": "cd353aa7-ec2d-4b40-91f5-6972ac2429e9",
   "metadata": {},
   "outputs": [],
   "source": [
    "def one_hot_encode(sequence):\n",
    "    mapping = {'A': [1, 0, 0, 0], 'C': [0, 1, 0, 0], 'G': [0, 0, 1, 0], 'U': [0, 0, 0, 1]}\n",
    "    return [mapping.get(nucleotide, [0, 0, 0, 0]) for nucleotide in sequence.upper().replace('T', 'U')]\n"
   ]
  },
  {
   "cell_type": "markdown",
   "id": "b44b19c2-190a-4966-825a-dd6cdf918da4",
   "metadata": {},
   "source": [
    "## Step 3: Encoding Structural Information\n",
    "- Structural data in dot-bracket notation needs to be encoded. We'll convert this notation into a numeric format that a neural network can process, similar to one-hot encoding."
   ]
  },
  {
   "cell_type": "code",
   "execution_count": 5,
   "id": "21f0ef99-254e-4e13-a5d6-c029d1266083",
   "metadata": {},
   "outputs": [],
   "source": [
    "def encode_structure(structure):\n",
    "    structure_mapping = {'.': [1, 0, 0], '(': [0, 1, 0], ')': [0, 0, 1]}\n",
    "    return [structure_mapping.get(char, [0, 0, 0]) for char in structure]\n"
   ]
  },
  {
   "cell_type": "markdown",
   "id": "149afed2-0bf8-4763-9285-fbd5c928c0b8",
   "metadata": {},
   "source": [
    "## Step 4: Preparing Data for the Model\n",
    "After encoding both the sequences and their structures, the data should be prepared to ensure uniform input lengths for training. This involves padding the sequences and structures to a fixed length, which is determined by the maximum length encountered in the dataset or a predefined maximum length."
   ]
  },
  {
   "cell_type": "code",
   "execution_count": 6,
   "id": "f805db2f-1600-4aa3-899e-9f0560ca2724",
   "metadata": {},
   "outputs": [],
   "source": [
    "import numpy as np\n",
    "\n",
    "def pad_encoded_data(encoded_data, max_length):\n",
    "    padded = np.zeros((len(encoded_data), max_length, len(encoded_data[0][0])))  # Adjust the depth based on encoding\n",
    "    for i, seq in enumerate(encoded_data):\n",
    "        length = min(len(seq), max_length)\n",
    "        padded[i, :length, :] = seq[:length]\n",
    "    return padded\n",
    "\n"
   ]
  },
  {
   "cell_type": "markdown",
   "id": "9c6f196c-492a-4d90-ad4d-6a39b6470832",
   "metadata": {},
   "source": [
    "## Step 5: Integrating Encoded Data\n",
    "Before feeding the data into the model, integrate the encoded sequence and structure data. This could mean simple concatenation along the feature axis."
   ]
  },
  {
   "cell_type": "code",
   "execution_count": 7,
   "id": "28cb3210-ce5c-465e-b7df-147d98b81439",
   "metadata": {},
   "outputs": [],
   "source": [
    "def integrate_encodings(sequence_encodings, structure_encodings):\n",
    "    # Concatenate along the last dimension (features)\n",
    "    return np.concatenate((sequence_encodings, structure_encodings), axis=-1)\n"
   ]
  },
  {
   "cell_type": "code",
   "execution_count": 8,
   "id": "bf55a7b3-94f7-4bbd-8438-531deedaa25d",
   "metadata": {},
   "outputs": [],
   "source": [
    "# Parameters\n",
    "max_length = 100  # Maximum sequence length\n",
    "\n",
    "# Load data\n",
    "mirna_df = load_data('dataset/mirna_sequences.csv', 'miRseq', 'miRseq_structure')\n",
    "lncrna_df = load_data('dataset/lncbase_with_sequences.csv', 'Sequence', 'Sequence_structure')\n",
    "\n",
    "\n"
   ]
  },
  {
   "cell_type": "code",
   "execution_count": 9,
   "id": "c53bcf07-a455-4093-81ea-75a0e38dff23",
   "metadata": {},
   "outputs": [],
   "source": [
    "# Encode data\n",
    "mirna_df['encoded_sequence'] = mirna_df['miRseq'].apply(one_hot_encode)\n",
    "mirna_df['encoded_structure'] = mirna_df['miRseq_structure'].apply(encode_structure)\n",
    "\n",
    "lncrna_df['encoded_sequence'] = lncrna_df['Sequence'].apply(one_hot_encode)\n",
    "lncrna_df['encoded_structure'] = lncrna_df['Sequence_structure'].apply(encode_structure)\n"
   ]
  },
  {
   "cell_type": "code",
   "execution_count": 10,
   "id": "613ce6e5-e6f6-43f6-bdd9-53aec87aadae",
   "metadata": {},
   "outputs": [],
   "source": [
    "# Pad data\n",
    "mirna_df['padded_sequence'] = list(pad_encoded_data(list(mirna_df['encoded_sequence']), max_length))\n",
    "mirna_df['padded_structure'] = list(pad_encoded_data(list(mirna_df['encoded_structure']), max_length))\n",
    "\n",
    "lncrna_df['padded_sequence'] = list(pad_encoded_data(list(lncrna_df['encoded_sequence']), max_length))\n",
    "lncrna_df['padded_structure'] = list(pad_encoded_data(list(lncrna_df['encoded_structure']), max_length))\n",
    "\n"
   ]
  },
  {
   "cell_type": "markdown",
   "id": "75269df2-a876-4294-8e9a-03fd1df235d9",
   "metadata": {},
   "source": [
    "Verify Data Shapes"
   ]
  },
  {
   "cell_type": "code",
   "execution_count": 11,
   "id": "b6d4f267-ced5-434e-a81d-23861f30f223",
   "metadata": {},
   "outputs": [
    {
     "name": "stdout",
     "output_type": "stream",
     "text": [
      "Shape of miRNA sequences: (424, 100, 4)\n",
      "Shape of miRNA structures: (424, 100, 3)\n",
      "Shape of lncRNA sequences: (5671, 100, 4)\n",
      "Shape of lncRNA structures: (5671, 100, 3)\n"
     ]
    }
   ],
   "source": [
    "print(\"Shape of miRNA sequences:\", np.array(mirna_df['padded_sequence'].tolist()).shape)\n",
    "print(\"Shape of miRNA structures:\", np.array(mirna_df['padded_structure'].tolist()).shape)\n",
    "print(\"Shape of lncRNA sequences:\", np.array(lncrna_df['padded_sequence'].tolist()).shape)\n",
    "print(\"Shape of lncRNA structures:\", np.array(lncrna_df['padded_structure'].tolist()).shape)\n"
   ]
  },
  {
   "cell_type": "code",
   "execution_count": 12,
   "id": "a05d61b2-e140-4797-8ce0-2e47c1b76a38",
   "metadata": {},
   "outputs": [],
   "source": [
    "# Integrate sequence and structure\n",
    "mirna_df['integrated_data'] = [integrate_encodings(seq, struct) for seq, struct in zip(mirna_df['padded_sequence'], mirna_df['padded_structure'])]\n",
    "lncrna_df['integrated_data'] = [integrate_encodings(seq, struct) for seq, struct in zip(lncrna_df['padded_sequence'], lncrna_df['padded_structure'])]\n"
   ]
  },
  {
   "cell_type": "code",
   "execution_count": 13,
   "id": "3f87ddd0-1ac9-4e9a-89b8-ddf9f12e85ac",
   "metadata": {},
   "outputs": [
    {
     "name": "stdout",
     "output_type": "stream",
     "text": [
      "Shape of integrated miRNA data: (424, 100, 7)\n",
      "Shape of integrated lncRNA data: (5671, 100, 7)\n"
     ]
    }
   ],
   "source": [
    "# Check the shape of the integrated data\n",
    "print(\"Shape of integrated miRNA data:\", np.array(mirna_df['integrated_data'].tolist()).shape)\n",
    "print(\"Shape of integrated lncRNA data:\", np.array(lncrna_df['integrated_data'].tolist()).shape)\n"
   ]
  },
  {
   "cell_type": "markdown",
   "id": "f0febde5-d82e-4085-a217-3cdb98e516ad",
   "metadata": {},
   "source": [
    "## Building Transformer Model "
   ]
  },
  {
   "cell_type": "code",
   "execution_count": 14,
   "id": "7d9a50ed-80c3-4aed-a381-d70220b0f907",
   "metadata": {},
   "outputs": [],
   "source": [
    "import tensorflow as tf\n",
    "\n",
    "def transformer_block(inputs, model_size, num_heads, ff_dim, dropout=0.1):\n",
    "    # Multi-head self-attention\n",
    "    attention = tf.keras.layers.MultiHeadAttention(num_heads=num_heads, key_dim=model_size)(inputs, inputs)\n",
    "    attention = tf.keras.layers.Dropout(dropout)(attention)\n",
    "    attention = tf.keras.layers.LayerNormalization(epsilon=1e-6)(inputs + attention)\n",
    "\n",
    "    # Feed-forward network\n",
    "    ffn = tf.keras.layers.Dense(ff_dim, activation='relu')(attention)\n",
    "    ffn = tf.keras.layers.Dropout(dropout)(ffn)\n",
    "    ffn = tf.keras.layers.Dense(model_size)(ffn)\n",
    "    ffn = tf.keras.layers.LayerNormalization(epsilon=1e-6)(attention + ffn)\n",
    "\n",
    "    return ffn\n"
   ]
  },
  {
   "cell_type": "markdown",
   "id": "70757718-efed-4ace-91c4-dc0b5617c397",
   "metadata": {},
   "source": [
    "With the preprocessed and integrated data ready, the next step is to construct the Transformer model that will use this data to predict interactions between miRNAs and lncRNAs. Here’s how you can proceed:\n",
    "\n",
    "### Define the Model Architecture:\n",
    "- Embedding Layer: Although the data is already in a form that could be input directly to the Transformer, using an embedding layer could further enhance the model's ability to capture complex patterns in the data.\n",
    "- Transformer Blocks: Implement multiple Transformer blocks that will process the sequence data, utilizing self-attention mechanisms to capture both local and long-range interactions.\n",
    "- Output Layer: Design the output layer to make predictions based on the processed features."
   ]
  },
  {
   "cell_type": "code",
   "execution_count": 15,
   "id": "5b75ce85-1aa2-45db-a5eb-63ad32acc04c",
   "metadata": {},
   "outputs": [],
   "source": [
    "import tensorflow as tf\n",
    "\n",
    "def transformer_encoder(inputs, head_size, num_heads, ff_dim, dropout=0):\n",
    "    # Multi-head self-attention\n",
    "    x = tf.keras.layers.MultiHeadAttention(key_dim=head_size, num_heads=num_heads, dropout=dropout)(inputs, inputs)\n",
    "    x = tf.keras.layers.Dropout(dropout)(x)\n",
    "    x = tf.keras.layers.LayerNormalization(epsilon=1e-6)(x + inputs)\n",
    "\n",
    "    # Feed-forward neural network\n",
    "    ff = tf.keras.layers.Dense(ff_dim, activation=\"relu\")(x)\n",
    "    ff = tf.keras.layers.Dropout(dropout)(ff)\n",
    "    ff = tf.keras.layers.Dense(inputs.shape[-1])(ff)\n",
    "    ff = tf.keras.layers.LayerNormalization(epsilon=1e-6)(x + ff)\n",
    "\n",
    "    return ff\n",
    "\n",
    "def build_transformer_model(input_shape, head_size, num_heads, ff_dim, num_layers, dropout=0.1):\n",
    "    inputs = tf.keras.Input(shape=input_shape)\n",
    "    x = inputs\n",
    "\n",
    "    for _ in range(num_layers):\n",
    "        x = transformer_encoder(x, head_size, num_heads, ff_dim, dropout)\n",
    "\n",
    "    x = tf.keras.layers.GlobalAveragePooling1D()(x)\n",
    "    outputs = tf.keras.layers.Dense(1, activation=\"sigmoid\")(x)\n",
    "\n",
    "    model = tf.keras.Model(inputs, outputs)\n",
    "    model.compile(optimizer=\"adam\", loss=\"binary_crossentropy\", metrics=[\"accuracy\"])\n",
    "    return model\n",
    "\n"
   ]
  },
  {
   "cell_type": "code",
   "execution_count": 16,
   "id": "0bd29a70-8b1c-46c5-a746-e6c68eb2d2b2",
   "metadata": {},
   "outputs": [
    {
     "data": {
      "text/html": [
       "<pre style=\"white-space:pre;overflow-x:auto;line-height:normal;font-family:Menlo,'DejaVu Sans Mono',consolas,'Courier New',monospace\"><span style=\"font-weight: bold\">Model: \"functional_1\"</span>\n",
       "</pre>\n"
      ],
      "text/plain": [
       "\u001b[1mModel: \"functional_1\"\u001b[0m\n"
      ]
     },
     "metadata": {},
     "output_type": "display_data"
    },
    {
     "data": {
      "text/html": [
       "<pre style=\"white-space:pre;overflow-x:auto;line-height:normal;font-family:Menlo,'DejaVu Sans Mono',consolas,'Courier New',monospace\">┏━━━━━━━━━━━━━━━━━━━━━┳━━━━━━━━━━━━━━━━━━━┳━━━━━━━━━━━━┳━━━━━━━━━━━━━━━━━━━┓\n",
       "┃<span style=\"font-weight: bold\"> Layer (type)        </span>┃<span style=\"font-weight: bold\"> Output Shape      </span>┃<span style=\"font-weight: bold\">    Param # </span>┃<span style=\"font-weight: bold\"> Connected to      </span>┃\n",
       "┡━━━━━━━━━━━━━━━━━━━━━╇━━━━━━━━━━━━━━━━━━━╇━━━━━━━━━━━━╇━━━━━━━━━━━━━━━━━━━┩\n",
       "│ input_layer         │ (<span style=\"color: #00d7ff; text-decoration-color: #00d7ff\">None</span>, <span style=\"color: #00af00; text-decoration-color: #00af00\">100</span>, <span style=\"color: #00af00; text-decoration-color: #00af00\">7</span>)    │          <span style=\"color: #00af00; text-decoration-color: #00af00\">0</span> │ -                 │\n",
       "│ (<span style=\"color: #0087ff; text-decoration-color: #0087ff\">InputLayer</span>)        │                   │            │                   │\n",
       "├─────────────────────┼───────────────────┼────────────┼───────────────────┤\n",
       "│ multi_head_attenti… │ (<span style=\"color: #00d7ff; text-decoration-color: #00d7ff\">None</span>, <span style=\"color: #00af00; text-decoration-color: #00af00\">100</span>, <span style=\"color: #00af00; text-decoration-color: #00af00\">7</span>)    │      <span style=\"color: #00af00; text-decoration-color: #00af00\">7,943</span> │ input_layer[<span style=\"color: #00af00; text-decoration-color: #00af00\">0</span>][<span style=\"color: #00af00; text-decoration-color: #00af00\">0</span>… │\n",
       "│ (<span style=\"color: #0087ff; text-decoration-color: #0087ff\">MultiHeadAttentio…</span> │                   │            │ input_layer[<span style=\"color: #00af00; text-decoration-color: #00af00\">0</span>][<span style=\"color: #00af00; text-decoration-color: #00af00\">0</span>] │\n",
       "├─────────────────────┼───────────────────┼────────────┼───────────────────┤\n",
       "│ dropout_1 (<span style=\"color: #0087ff; text-decoration-color: #0087ff\">Dropout</span>) │ (<span style=\"color: #00d7ff; text-decoration-color: #00d7ff\">None</span>, <span style=\"color: #00af00; text-decoration-color: #00af00\">100</span>, <span style=\"color: #00af00; text-decoration-color: #00af00\">7</span>)    │          <span style=\"color: #00af00; text-decoration-color: #00af00\">0</span> │ multi_head_atten… │\n",
       "├─────────────────────┼───────────────────┼────────────┼───────────────────┤\n",
       "│ add (<span style=\"color: #0087ff; text-decoration-color: #0087ff\">Add</span>)           │ (<span style=\"color: #00d7ff; text-decoration-color: #00d7ff\">None</span>, <span style=\"color: #00af00; text-decoration-color: #00af00\">100</span>, <span style=\"color: #00af00; text-decoration-color: #00af00\">7</span>)    │          <span style=\"color: #00af00; text-decoration-color: #00af00\">0</span> │ dropout_1[<span style=\"color: #00af00; text-decoration-color: #00af00\">0</span>][<span style=\"color: #00af00; text-decoration-color: #00af00\">0</span>],  │\n",
       "│                     │                   │            │ input_layer[<span style=\"color: #00af00; text-decoration-color: #00af00\">0</span>][<span style=\"color: #00af00; text-decoration-color: #00af00\">0</span>] │\n",
       "├─────────────────────┼───────────────────┼────────────┼───────────────────┤\n",
       "│ layer_normalization │ (<span style=\"color: #00d7ff; text-decoration-color: #00d7ff\">None</span>, <span style=\"color: #00af00; text-decoration-color: #00af00\">100</span>, <span style=\"color: #00af00; text-decoration-color: #00af00\">7</span>)    │         <span style=\"color: #00af00; text-decoration-color: #00af00\">14</span> │ add[<span style=\"color: #00af00; text-decoration-color: #00af00\">0</span>][<span style=\"color: #00af00; text-decoration-color: #00af00\">0</span>]         │\n",
       "│ (<span style=\"color: #0087ff; text-decoration-color: #0087ff\">LayerNormalizatio…</span> │                   │            │                   │\n",
       "├─────────────────────┼───────────────────┼────────────┼───────────────────┤\n",
       "│ dense (<span style=\"color: #0087ff; text-decoration-color: #0087ff\">Dense</span>)       │ (<span style=\"color: #00d7ff; text-decoration-color: #00d7ff\">None</span>, <span style=\"color: #00af00; text-decoration-color: #00af00\">100</span>, <span style=\"color: #00af00; text-decoration-color: #00af00\">256</span>)  │      <span style=\"color: #00af00; text-decoration-color: #00af00\">2,048</span> │ layer_normalizat… │\n",
       "├─────────────────────┼───────────────────┼────────────┼───────────────────┤\n",
       "│ dropout_2 (<span style=\"color: #0087ff; text-decoration-color: #0087ff\">Dropout</span>) │ (<span style=\"color: #00d7ff; text-decoration-color: #00d7ff\">None</span>, <span style=\"color: #00af00; text-decoration-color: #00af00\">100</span>, <span style=\"color: #00af00; text-decoration-color: #00af00\">256</span>)  │          <span style=\"color: #00af00; text-decoration-color: #00af00\">0</span> │ dense[<span style=\"color: #00af00; text-decoration-color: #00af00\">0</span>][<span style=\"color: #00af00; text-decoration-color: #00af00\">0</span>]       │\n",
       "├─────────────────────┼───────────────────┼────────────┼───────────────────┤\n",
       "│ dense_1 (<span style=\"color: #0087ff; text-decoration-color: #0087ff\">Dense</span>)     │ (<span style=\"color: #00d7ff; text-decoration-color: #00d7ff\">None</span>, <span style=\"color: #00af00; text-decoration-color: #00af00\">100</span>, <span style=\"color: #00af00; text-decoration-color: #00af00\">7</span>)    │      <span style=\"color: #00af00; text-decoration-color: #00af00\">1,799</span> │ dropout_2[<span style=\"color: #00af00; text-decoration-color: #00af00\">0</span>][<span style=\"color: #00af00; text-decoration-color: #00af00\">0</span>]   │\n",
       "├─────────────────────┼───────────────────┼────────────┼───────────────────┤\n",
       "│ add_1 (<span style=\"color: #0087ff; text-decoration-color: #0087ff\">Add</span>)         │ (<span style=\"color: #00d7ff; text-decoration-color: #00d7ff\">None</span>, <span style=\"color: #00af00; text-decoration-color: #00af00\">100</span>, <span style=\"color: #00af00; text-decoration-color: #00af00\">7</span>)    │          <span style=\"color: #00af00; text-decoration-color: #00af00\">0</span> │ layer_normalizat… │\n",
       "│                     │                   │            │ dense_1[<span style=\"color: #00af00; text-decoration-color: #00af00\">0</span>][<span style=\"color: #00af00; text-decoration-color: #00af00\">0</span>]     │\n",
       "├─────────────────────┼───────────────────┼────────────┼───────────────────┤\n",
       "│ layer_normalizatio… │ (<span style=\"color: #00d7ff; text-decoration-color: #00d7ff\">None</span>, <span style=\"color: #00af00; text-decoration-color: #00af00\">100</span>, <span style=\"color: #00af00; text-decoration-color: #00af00\">7</span>)    │         <span style=\"color: #00af00; text-decoration-color: #00af00\">14</span> │ add_1[<span style=\"color: #00af00; text-decoration-color: #00af00\">0</span>][<span style=\"color: #00af00; text-decoration-color: #00af00\">0</span>]       │\n",
       "│ (<span style=\"color: #0087ff; text-decoration-color: #0087ff\">LayerNormalizatio…</span> │                   │            │                   │\n",
       "├─────────────────────┼───────────────────┼────────────┼───────────────────┤\n",
       "│ multi_head_attenti… │ (<span style=\"color: #00d7ff; text-decoration-color: #00d7ff\">None</span>, <span style=\"color: #00af00; text-decoration-color: #00af00\">100</span>, <span style=\"color: #00af00; text-decoration-color: #00af00\">7</span>)    │      <span style=\"color: #00af00; text-decoration-color: #00af00\">7,943</span> │ layer_normalizat… │\n",
       "│ (<span style=\"color: #0087ff; text-decoration-color: #0087ff\">MultiHeadAttentio…</span> │                   │            │ layer_normalizat… │\n",
       "├─────────────────────┼───────────────────┼────────────┼───────────────────┤\n",
       "│ dropout_4 (<span style=\"color: #0087ff; text-decoration-color: #0087ff\">Dropout</span>) │ (<span style=\"color: #00d7ff; text-decoration-color: #00d7ff\">None</span>, <span style=\"color: #00af00; text-decoration-color: #00af00\">100</span>, <span style=\"color: #00af00; text-decoration-color: #00af00\">7</span>)    │          <span style=\"color: #00af00; text-decoration-color: #00af00\">0</span> │ multi_head_atten… │\n",
       "├─────────────────────┼───────────────────┼────────────┼───────────────────┤\n",
       "│ add_2 (<span style=\"color: #0087ff; text-decoration-color: #0087ff\">Add</span>)         │ (<span style=\"color: #00d7ff; text-decoration-color: #00d7ff\">None</span>, <span style=\"color: #00af00; text-decoration-color: #00af00\">100</span>, <span style=\"color: #00af00; text-decoration-color: #00af00\">7</span>)    │          <span style=\"color: #00af00; text-decoration-color: #00af00\">0</span> │ dropout_4[<span style=\"color: #00af00; text-decoration-color: #00af00\">0</span>][<span style=\"color: #00af00; text-decoration-color: #00af00\">0</span>],  │\n",
       "│                     │                   │            │ layer_normalizat… │\n",
       "├─────────────────────┼───────────────────┼────────────┼───────────────────┤\n",
       "│ layer_normalizatio… │ (<span style=\"color: #00d7ff; text-decoration-color: #00d7ff\">None</span>, <span style=\"color: #00af00; text-decoration-color: #00af00\">100</span>, <span style=\"color: #00af00; text-decoration-color: #00af00\">7</span>)    │         <span style=\"color: #00af00; text-decoration-color: #00af00\">14</span> │ add_2[<span style=\"color: #00af00; text-decoration-color: #00af00\">0</span>][<span style=\"color: #00af00; text-decoration-color: #00af00\">0</span>]       │\n",
       "│ (<span style=\"color: #0087ff; text-decoration-color: #0087ff\">LayerNormalizatio…</span> │                   │            │                   │\n",
       "├─────────────────────┼───────────────────┼────────────┼───────────────────┤\n",
       "│ dense_2 (<span style=\"color: #0087ff; text-decoration-color: #0087ff\">Dense</span>)     │ (<span style=\"color: #00d7ff; text-decoration-color: #00d7ff\">None</span>, <span style=\"color: #00af00; text-decoration-color: #00af00\">100</span>, <span style=\"color: #00af00; text-decoration-color: #00af00\">256</span>)  │      <span style=\"color: #00af00; text-decoration-color: #00af00\">2,048</span> │ layer_normalizat… │\n",
       "├─────────────────────┼───────────────────┼────────────┼───────────────────┤\n",
       "│ dropout_5 (<span style=\"color: #0087ff; text-decoration-color: #0087ff\">Dropout</span>) │ (<span style=\"color: #00d7ff; text-decoration-color: #00d7ff\">None</span>, <span style=\"color: #00af00; text-decoration-color: #00af00\">100</span>, <span style=\"color: #00af00; text-decoration-color: #00af00\">256</span>)  │          <span style=\"color: #00af00; text-decoration-color: #00af00\">0</span> │ dense_2[<span style=\"color: #00af00; text-decoration-color: #00af00\">0</span>][<span style=\"color: #00af00; text-decoration-color: #00af00\">0</span>]     │\n",
       "├─────────────────────┼───────────────────┼────────────┼───────────────────┤\n",
       "│ dense_3 (<span style=\"color: #0087ff; text-decoration-color: #0087ff\">Dense</span>)     │ (<span style=\"color: #00d7ff; text-decoration-color: #00d7ff\">None</span>, <span style=\"color: #00af00; text-decoration-color: #00af00\">100</span>, <span style=\"color: #00af00; text-decoration-color: #00af00\">7</span>)    │      <span style=\"color: #00af00; text-decoration-color: #00af00\">1,799</span> │ dropout_5[<span style=\"color: #00af00; text-decoration-color: #00af00\">0</span>][<span style=\"color: #00af00; text-decoration-color: #00af00\">0</span>]   │\n",
       "├─────────────────────┼───────────────────┼────────────┼───────────────────┤\n",
       "│ add_3 (<span style=\"color: #0087ff; text-decoration-color: #0087ff\">Add</span>)         │ (<span style=\"color: #00d7ff; text-decoration-color: #00d7ff\">None</span>, <span style=\"color: #00af00; text-decoration-color: #00af00\">100</span>, <span style=\"color: #00af00; text-decoration-color: #00af00\">7</span>)    │          <span style=\"color: #00af00; text-decoration-color: #00af00\">0</span> │ layer_normalizat… │\n",
       "│                     │                   │            │ dense_3[<span style=\"color: #00af00; text-decoration-color: #00af00\">0</span>][<span style=\"color: #00af00; text-decoration-color: #00af00\">0</span>]     │\n",
       "├─────────────────────┼───────────────────┼────────────┼───────────────────┤\n",
       "│ layer_normalizatio… │ (<span style=\"color: #00d7ff; text-decoration-color: #00d7ff\">None</span>, <span style=\"color: #00af00; text-decoration-color: #00af00\">100</span>, <span style=\"color: #00af00; text-decoration-color: #00af00\">7</span>)    │         <span style=\"color: #00af00; text-decoration-color: #00af00\">14</span> │ add_3[<span style=\"color: #00af00; text-decoration-color: #00af00\">0</span>][<span style=\"color: #00af00; text-decoration-color: #00af00\">0</span>]       │\n",
       "│ (<span style=\"color: #0087ff; text-decoration-color: #0087ff\">LayerNormalizatio…</span> │                   │            │                   │\n",
       "├─────────────────────┼───────────────────┼────────────┼───────────────────┤\n",
       "│ multi_head_attenti… │ (<span style=\"color: #00d7ff; text-decoration-color: #00d7ff\">None</span>, <span style=\"color: #00af00; text-decoration-color: #00af00\">100</span>, <span style=\"color: #00af00; text-decoration-color: #00af00\">7</span>)    │      <span style=\"color: #00af00; text-decoration-color: #00af00\">7,943</span> │ layer_normalizat… │\n",
       "│ (<span style=\"color: #0087ff; text-decoration-color: #0087ff\">MultiHeadAttentio…</span> │                   │            │ layer_normalizat… │\n",
       "├─────────────────────┼───────────────────┼────────────┼───────────────────┤\n",
       "│ dropout_7 (<span style=\"color: #0087ff; text-decoration-color: #0087ff\">Dropout</span>) │ (<span style=\"color: #00d7ff; text-decoration-color: #00d7ff\">None</span>, <span style=\"color: #00af00; text-decoration-color: #00af00\">100</span>, <span style=\"color: #00af00; text-decoration-color: #00af00\">7</span>)    │          <span style=\"color: #00af00; text-decoration-color: #00af00\">0</span> │ multi_head_atten… │\n",
       "├─────────────────────┼───────────────────┼────────────┼───────────────────┤\n",
       "│ add_4 (<span style=\"color: #0087ff; text-decoration-color: #0087ff\">Add</span>)         │ (<span style=\"color: #00d7ff; text-decoration-color: #00d7ff\">None</span>, <span style=\"color: #00af00; text-decoration-color: #00af00\">100</span>, <span style=\"color: #00af00; text-decoration-color: #00af00\">7</span>)    │          <span style=\"color: #00af00; text-decoration-color: #00af00\">0</span> │ dropout_7[<span style=\"color: #00af00; text-decoration-color: #00af00\">0</span>][<span style=\"color: #00af00; text-decoration-color: #00af00\">0</span>],  │\n",
       "│                     │                   │            │ layer_normalizat… │\n",
       "├─────────────────────┼───────────────────┼────────────┼───────────────────┤\n",
       "│ layer_normalizatio… │ (<span style=\"color: #00d7ff; text-decoration-color: #00d7ff\">None</span>, <span style=\"color: #00af00; text-decoration-color: #00af00\">100</span>, <span style=\"color: #00af00; text-decoration-color: #00af00\">7</span>)    │         <span style=\"color: #00af00; text-decoration-color: #00af00\">14</span> │ add_4[<span style=\"color: #00af00; text-decoration-color: #00af00\">0</span>][<span style=\"color: #00af00; text-decoration-color: #00af00\">0</span>]       │\n",
       "│ (<span style=\"color: #0087ff; text-decoration-color: #0087ff\">LayerNormalizatio…</span> │                   │            │                   │\n",
       "├─────────────────────┼───────────────────┼────────────┼───────────────────┤\n",
       "│ dense_4 (<span style=\"color: #0087ff; text-decoration-color: #0087ff\">Dense</span>)     │ (<span style=\"color: #00d7ff; text-decoration-color: #00d7ff\">None</span>, <span style=\"color: #00af00; text-decoration-color: #00af00\">100</span>, <span style=\"color: #00af00; text-decoration-color: #00af00\">256</span>)  │      <span style=\"color: #00af00; text-decoration-color: #00af00\">2,048</span> │ layer_normalizat… │\n",
       "├─────────────────────┼───────────────────┼────────────┼───────────────────┤\n",
       "│ dropout_8 (<span style=\"color: #0087ff; text-decoration-color: #0087ff\">Dropout</span>) │ (<span style=\"color: #00d7ff; text-decoration-color: #00d7ff\">None</span>, <span style=\"color: #00af00; text-decoration-color: #00af00\">100</span>, <span style=\"color: #00af00; text-decoration-color: #00af00\">256</span>)  │          <span style=\"color: #00af00; text-decoration-color: #00af00\">0</span> │ dense_4[<span style=\"color: #00af00; text-decoration-color: #00af00\">0</span>][<span style=\"color: #00af00; text-decoration-color: #00af00\">0</span>]     │\n",
       "├─────────────────────┼───────────────────┼────────────┼───────────────────┤\n",
       "│ dense_5 (<span style=\"color: #0087ff; text-decoration-color: #0087ff\">Dense</span>)     │ (<span style=\"color: #00d7ff; text-decoration-color: #00d7ff\">None</span>, <span style=\"color: #00af00; text-decoration-color: #00af00\">100</span>, <span style=\"color: #00af00; text-decoration-color: #00af00\">7</span>)    │      <span style=\"color: #00af00; text-decoration-color: #00af00\">1,799</span> │ dropout_8[<span style=\"color: #00af00; text-decoration-color: #00af00\">0</span>][<span style=\"color: #00af00; text-decoration-color: #00af00\">0</span>]   │\n",
       "├─────────────────────┼───────────────────┼────────────┼───────────────────┤\n",
       "│ add_5 (<span style=\"color: #0087ff; text-decoration-color: #0087ff\">Add</span>)         │ (<span style=\"color: #00d7ff; text-decoration-color: #00d7ff\">None</span>, <span style=\"color: #00af00; text-decoration-color: #00af00\">100</span>, <span style=\"color: #00af00; text-decoration-color: #00af00\">7</span>)    │          <span style=\"color: #00af00; text-decoration-color: #00af00\">0</span> │ layer_normalizat… │\n",
       "│                     │                   │            │ dense_5[<span style=\"color: #00af00; text-decoration-color: #00af00\">0</span>][<span style=\"color: #00af00; text-decoration-color: #00af00\">0</span>]     │\n",
       "├─────────────────────┼───────────────────┼────────────┼───────────────────┤\n",
       "│ layer_normalizatio… │ (<span style=\"color: #00d7ff; text-decoration-color: #00d7ff\">None</span>, <span style=\"color: #00af00; text-decoration-color: #00af00\">100</span>, <span style=\"color: #00af00; text-decoration-color: #00af00\">7</span>)    │         <span style=\"color: #00af00; text-decoration-color: #00af00\">14</span> │ add_5[<span style=\"color: #00af00; text-decoration-color: #00af00\">0</span>][<span style=\"color: #00af00; text-decoration-color: #00af00\">0</span>]       │\n",
       "│ (<span style=\"color: #0087ff; text-decoration-color: #0087ff\">LayerNormalizatio…</span> │                   │            │                   │\n",
       "├─────────────────────┼───────────────────┼────────────┼───────────────────┤\n",
       "│ multi_head_attenti… │ (<span style=\"color: #00d7ff; text-decoration-color: #00d7ff\">None</span>, <span style=\"color: #00af00; text-decoration-color: #00af00\">100</span>, <span style=\"color: #00af00; text-decoration-color: #00af00\">7</span>)    │      <span style=\"color: #00af00; text-decoration-color: #00af00\">7,943</span> │ layer_normalizat… │\n",
       "│ (<span style=\"color: #0087ff; text-decoration-color: #0087ff\">MultiHeadAttentio…</span> │                   │            │ layer_normalizat… │\n",
       "├─────────────────────┼───────────────────┼────────────┼───────────────────┤\n",
       "│ dropout_10          │ (<span style=\"color: #00d7ff; text-decoration-color: #00d7ff\">None</span>, <span style=\"color: #00af00; text-decoration-color: #00af00\">100</span>, <span style=\"color: #00af00; text-decoration-color: #00af00\">7</span>)    │          <span style=\"color: #00af00; text-decoration-color: #00af00\">0</span> │ multi_head_atten… │\n",
       "│ (<span style=\"color: #0087ff; text-decoration-color: #0087ff\">Dropout</span>)           │                   │            │                   │\n",
       "├─────────────────────┼───────────────────┼────────────┼───────────────────┤\n",
       "│ add_6 (<span style=\"color: #0087ff; text-decoration-color: #0087ff\">Add</span>)         │ (<span style=\"color: #00d7ff; text-decoration-color: #00d7ff\">None</span>, <span style=\"color: #00af00; text-decoration-color: #00af00\">100</span>, <span style=\"color: #00af00; text-decoration-color: #00af00\">7</span>)    │          <span style=\"color: #00af00; text-decoration-color: #00af00\">0</span> │ dropout_10[<span style=\"color: #00af00; text-decoration-color: #00af00\">0</span>][<span style=\"color: #00af00; text-decoration-color: #00af00\">0</span>], │\n",
       "│                     │                   │            │ layer_normalizat… │\n",
       "├─────────────────────┼───────────────────┼────────────┼───────────────────┤\n",
       "│ layer_normalizatio… │ (<span style=\"color: #00d7ff; text-decoration-color: #00d7ff\">None</span>, <span style=\"color: #00af00; text-decoration-color: #00af00\">100</span>, <span style=\"color: #00af00; text-decoration-color: #00af00\">7</span>)    │         <span style=\"color: #00af00; text-decoration-color: #00af00\">14</span> │ add_6[<span style=\"color: #00af00; text-decoration-color: #00af00\">0</span>][<span style=\"color: #00af00; text-decoration-color: #00af00\">0</span>]       │\n",
       "│ (<span style=\"color: #0087ff; text-decoration-color: #0087ff\">LayerNormalizatio…</span> │                   │            │                   │\n",
       "├─────────────────────┼───────────────────┼────────────┼───────────────────┤\n",
       "│ dense_6 (<span style=\"color: #0087ff; text-decoration-color: #0087ff\">Dense</span>)     │ (<span style=\"color: #00d7ff; text-decoration-color: #00d7ff\">None</span>, <span style=\"color: #00af00; text-decoration-color: #00af00\">100</span>, <span style=\"color: #00af00; text-decoration-color: #00af00\">256</span>)  │      <span style=\"color: #00af00; text-decoration-color: #00af00\">2,048</span> │ layer_normalizat… │\n",
       "├─────────────────────┼───────────────────┼────────────┼───────────────────┤\n",
       "│ dropout_11          │ (<span style=\"color: #00d7ff; text-decoration-color: #00d7ff\">None</span>, <span style=\"color: #00af00; text-decoration-color: #00af00\">100</span>, <span style=\"color: #00af00; text-decoration-color: #00af00\">256</span>)  │          <span style=\"color: #00af00; text-decoration-color: #00af00\">0</span> │ dense_6[<span style=\"color: #00af00; text-decoration-color: #00af00\">0</span>][<span style=\"color: #00af00; text-decoration-color: #00af00\">0</span>]     │\n",
       "│ (<span style=\"color: #0087ff; text-decoration-color: #0087ff\">Dropout</span>)           │                   │            │                   │\n",
       "├─────────────────────┼───────────────────┼────────────┼───────────────────┤\n",
       "│ dense_7 (<span style=\"color: #0087ff; text-decoration-color: #0087ff\">Dense</span>)     │ (<span style=\"color: #00d7ff; text-decoration-color: #00d7ff\">None</span>, <span style=\"color: #00af00; text-decoration-color: #00af00\">100</span>, <span style=\"color: #00af00; text-decoration-color: #00af00\">7</span>)    │      <span style=\"color: #00af00; text-decoration-color: #00af00\">1,799</span> │ dropout_11[<span style=\"color: #00af00; text-decoration-color: #00af00\">0</span>][<span style=\"color: #00af00; text-decoration-color: #00af00\">0</span>]  │\n",
       "├─────────────────────┼───────────────────┼────────────┼───────────────────┤\n",
       "│ add_7 (<span style=\"color: #0087ff; text-decoration-color: #0087ff\">Add</span>)         │ (<span style=\"color: #00d7ff; text-decoration-color: #00d7ff\">None</span>, <span style=\"color: #00af00; text-decoration-color: #00af00\">100</span>, <span style=\"color: #00af00; text-decoration-color: #00af00\">7</span>)    │          <span style=\"color: #00af00; text-decoration-color: #00af00\">0</span> │ layer_normalizat… │\n",
       "│                     │                   │            │ dense_7[<span style=\"color: #00af00; text-decoration-color: #00af00\">0</span>][<span style=\"color: #00af00; text-decoration-color: #00af00\">0</span>]     │\n",
       "├─────────────────────┼───────────────────┼────────────┼───────────────────┤\n",
       "│ layer_normalizatio… │ (<span style=\"color: #00d7ff; text-decoration-color: #00d7ff\">None</span>, <span style=\"color: #00af00; text-decoration-color: #00af00\">100</span>, <span style=\"color: #00af00; text-decoration-color: #00af00\">7</span>)    │         <span style=\"color: #00af00; text-decoration-color: #00af00\">14</span> │ add_7[<span style=\"color: #00af00; text-decoration-color: #00af00\">0</span>][<span style=\"color: #00af00; text-decoration-color: #00af00\">0</span>]       │\n",
       "│ (<span style=\"color: #0087ff; text-decoration-color: #0087ff\">LayerNormalizatio…</span> │                   │            │                   │\n",
       "├─────────────────────┼───────────────────┼────────────┼───────────────────┤\n",
       "│ global_average_poo… │ (<span style=\"color: #00d7ff; text-decoration-color: #00d7ff\">None</span>, <span style=\"color: #00af00; text-decoration-color: #00af00\">7</span>)         │          <span style=\"color: #00af00; text-decoration-color: #00af00\">0</span> │ layer_normalizat… │\n",
       "│ (<span style=\"color: #0087ff; text-decoration-color: #0087ff\">GlobalAveragePool…</span> │                   │            │                   │\n",
       "├─────────────────────┼───────────────────┼────────────┼───────────────────┤\n",
       "│ dense_8 (<span style=\"color: #0087ff; text-decoration-color: #0087ff\">Dense</span>)     │ (<span style=\"color: #00d7ff; text-decoration-color: #00d7ff\">None</span>, <span style=\"color: #00af00; text-decoration-color: #00af00\">1</span>)         │          <span style=\"color: #00af00; text-decoration-color: #00af00\">8</span> │ global_average_p… │\n",
       "└─────────────────────┴───────────────────┴────────────┴───────────────────┘\n",
       "</pre>\n"
      ],
      "text/plain": [
       "┏━━━━━━━━━━━━━━━━━━━━━┳━━━━━━━━━━━━━━━━━━━┳━━━━━━━━━━━━┳━━━━━━━━━━━━━━━━━━━┓\n",
       "┃\u001b[1m \u001b[0m\u001b[1mLayer (type)       \u001b[0m\u001b[1m \u001b[0m┃\u001b[1m \u001b[0m\u001b[1mOutput Shape     \u001b[0m\u001b[1m \u001b[0m┃\u001b[1m \u001b[0m\u001b[1m   Param #\u001b[0m\u001b[1m \u001b[0m┃\u001b[1m \u001b[0m\u001b[1mConnected to     \u001b[0m\u001b[1m \u001b[0m┃\n",
       "┡━━━━━━━━━━━━━━━━━━━━━╇━━━━━━━━━━━━━━━━━━━╇━━━━━━━━━━━━╇━━━━━━━━━━━━━━━━━━━┩\n",
       "│ input_layer         │ (\u001b[38;5;45mNone\u001b[0m, \u001b[38;5;34m100\u001b[0m, \u001b[38;5;34m7\u001b[0m)    │          \u001b[38;5;34m0\u001b[0m │ -                 │\n",
       "│ (\u001b[38;5;33mInputLayer\u001b[0m)        │                   │            │                   │\n",
       "├─────────────────────┼───────────────────┼────────────┼───────────────────┤\n",
       "│ multi_head_attenti… │ (\u001b[38;5;45mNone\u001b[0m, \u001b[38;5;34m100\u001b[0m, \u001b[38;5;34m7\u001b[0m)    │      \u001b[38;5;34m7,943\u001b[0m │ input_layer[\u001b[38;5;34m0\u001b[0m][\u001b[38;5;34m0\u001b[0m… │\n",
       "│ (\u001b[38;5;33mMultiHeadAttentio…\u001b[0m │                   │            │ input_layer[\u001b[38;5;34m0\u001b[0m][\u001b[38;5;34m0\u001b[0m] │\n",
       "├─────────────────────┼───────────────────┼────────────┼───────────────────┤\n",
       "│ dropout_1 (\u001b[38;5;33mDropout\u001b[0m) │ (\u001b[38;5;45mNone\u001b[0m, \u001b[38;5;34m100\u001b[0m, \u001b[38;5;34m7\u001b[0m)    │          \u001b[38;5;34m0\u001b[0m │ multi_head_atten… │\n",
       "├─────────────────────┼───────────────────┼────────────┼───────────────────┤\n",
       "│ add (\u001b[38;5;33mAdd\u001b[0m)           │ (\u001b[38;5;45mNone\u001b[0m, \u001b[38;5;34m100\u001b[0m, \u001b[38;5;34m7\u001b[0m)    │          \u001b[38;5;34m0\u001b[0m │ dropout_1[\u001b[38;5;34m0\u001b[0m][\u001b[38;5;34m0\u001b[0m],  │\n",
       "│                     │                   │            │ input_layer[\u001b[38;5;34m0\u001b[0m][\u001b[38;5;34m0\u001b[0m] │\n",
       "├─────────────────────┼───────────────────┼────────────┼───────────────────┤\n",
       "│ layer_normalization │ (\u001b[38;5;45mNone\u001b[0m, \u001b[38;5;34m100\u001b[0m, \u001b[38;5;34m7\u001b[0m)    │         \u001b[38;5;34m14\u001b[0m │ add[\u001b[38;5;34m0\u001b[0m][\u001b[38;5;34m0\u001b[0m]         │\n",
       "│ (\u001b[38;5;33mLayerNormalizatio…\u001b[0m │                   │            │                   │\n",
       "├─────────────────────┼───────────────────┼────────────┼───────────────────┤\n",
       "│ dense (\u001b[38;5;33mDense\u001b[0m)       │ (\u001b[38;5;45mNone\u001b[0m, \u001b[38;5;34m100\u001b[0m, \u001b[38;5;34m256\u001b[0m)  │      \u001b[38;5;34m2,048\u001b[0m │ layer_normalizat… │\n",
       "├─────────────────────┼───────────────────┼────────────┼───────────────────┤\n",
       "│ dropout_2 (\u001b[38;5;33mDropout\u001b[0m) │ (\u001b[38;5;45mNone\u001b[0m, \u001b[38;5;34m100\u001b[0m, \u001b[38;5;34m256\u001b[0m)  │          \u001b[38;5;34m0\u001b[0m │ dense[\u001b[38;5;34m0\u001b[0m][\u001b[38;5;34m0\u001b[0m]       │\n",
       "├─────────────────────┼───────────────────┼────────────┼───────────────────┤\n",
       "│ dense_1 (\u001b[38;5;33mDense\u001b[0m)     │ (\u001b[38;5;45mNone\u001b[0m, \u001b[38;5;34m100\u001b[0m, \u001b[38;5;34m7\u001b[0m)    │      \u001b[38;5;34m1,799\u001b[0m │ dropout_2[\u001b[38;5;34m0\u001b[0m][\u001b[38;5;34m0\u001b[0m]   │\n",
       "├─────────────────────┼───────────────────┼────────────┼───────────────────┤\n",
       "│ add_1 (\u001b[38;5;33mAdd\u001b[0m)         │ (\u001b[38;5;45mNone\u001b[0m, \u001b[38;5;34m100\u001b[0m, \u001b[38;5;34m7\u001b[0m)    │          \u001b[38;5;34m0\u001b[0m │ layer_normalizat… │\n",
       "│                     │                   │            │ dense_1[\u001b[38;5;34m0\u001b[0m][\u001b[38;5;34m0\u001b[0m]     │\n",
       "├─────────────────────┼───────────────────┼────────────┼───────────────────┤\n",
       "│ layer_normalizatio… │ (\u001b[38;5;45mNone\u001b[0m, \u001b[38;5;34m100\u001b[0m, \u001b[38;5;34m7\u001b[0m)    │         \u001b[38;5;34m14\u001b[0m │ add_1[\u001b[38;5;34m0\u001b[0m][\u001b[38;5;34m0\u001b[0m]       │\n",
       "│ (\u001b[38;5;33mLayerNormalizatio…\u001b[0m │                   │            │                   │\n",
       "├─────────────────────┼───────────────────┼────────────┼───────────────────┤\n",
       "│ multi_head_attenti… │ (\u001b[38;5;45mNone\u001b[0m, \u001b[38;5;34m100\u001b[0m, \u001b[38;5;34m7\u001b[0m)    │      \u001b[38;5;34m7,943\u001b[0m │ layer_normalizat… │\n",
       "│ (\u001b[38;5;33mMultiHeadAttentio…\u001b[0m │                   │            │ layer_normalizat… │\n",
       "├─────────────────────┼───────────────────┼────────────┼───────────────────┤\n",
       "│ dropout_4 (\u001b[38;5;33mDropout\u001b[0m) │ (\u001b[38;5;45mNone\u001b[0m, \u001b[38;5;34m100\u001b[0m, \u001b[38;5;34m7\u001b[0m)    │          \u001b[38;5;34m0\u001b[0m │ multi_head_atten… │\n",
       "├─────────────────────┼───────────────────┼────────────┼───────────────────┤\n",
       "│ add_2 (\u001b[38;5;33mAdd\u001b[0m)         │ (\u001b[38;5;45mNone\u001b[0m, \u001b[38;5;34m100\u001b[0m, \u001b[38;5;34m7\u001b[0m)    │          \u001b[38;5;34m0\u001b[0m │ dropout_4[\u001b[38;5;34m0\u001b[0m][\u001b[38;5;34m0\u001b[0m],  │\n",
       "│                     │                   │            │ layer_normalizat… │\n",
       "├─────────────────────┼───────────────────┼────────────┼───────────────────┤\n",
       "│ layer_normalizatio… │ (\u001b[38;5;45mNone\u001b[0m, \u001b[38;5;34m100\u001b[0m, \u001b[38;5;34m7\u001b[0m)    │         \u001b[38;5;34m14\u001b[0m │ add_2[\u001b[38;5;34m0\u001b[0m][\u001b[38;5;34m0\u001b[0m]       │\n",
       "│ (\u001b[38;5;33mLayerNormalizatio…\u001b[0m │                   │            │                   │\n",
       "├─────────────────────┼───────────────────┼────────────┼───────────────────┤\n",
       "│ dense_2 (\u001b[38;5;33mDense\u001b[0m)     │ (\u001b[38;5;45mNone\u001b[0m, \u001b[38;5;34m100\u001b[0m, \u001b[38;5;34m256\u001b[0m)  │      \u001b[38;5;34m2,048\u001b[0m │ layer_normalizat… │\n",
       "├─────────────────────┼───────────────────┼────────────┼───────────────────┤\n",
       "│ dropout_5 (\u001b[38;5;33mDropout\u001b[0m) │ (\u001b[38;5;45mNone\u001b[0m, \u001b[38;5;34m100\u001b[0m, \u001b[38;5;34m256\u001b[0m)  │          \u001b[38;5;34m0\u001b[0m │ dense_2[\u001b[38;5;34m0\u001b[0m][\u001b[38;5;34m0\u001b[0m]     │\n",
       "├─────────────────────┼───────────────────┼────────────┼───────────────────┤\n",
       "│ dense_3 (\u001b[38;5;33mDense\u001b[0m)     │ (\u001b[38;5;45mNone\u001b[0m, \u001b[38;5;34m100\u001b[0m, \u001b[38;5;34m7\u001b[0m)    │      \u001b[38;5;34m1,799\u001b[0m │ dropout_5[\u001b[38;5;34m0\u001b[0m][\u001b[38;5;34m0\u001b[0m]   │\n",
       "├─────────────────────┼───────────────────┼────────────┼───────────────────┤\n",
       "│ add_3 (\u001b[38;5;33mAdd\u001b[0m)         │ (\u001b[38;5;45mNone\u001b[0m, \u001b[38;5;34m100\u001b[0m, \u001b[38;5;34m7\u001b[0m)    │          \u001b[38;5;34m0\u001b[0m │ layer_normalizat… │\n",
       "│                     │                   │            │ dense_3[\u001b[38;5;34m0\u001b[0m][\u001b[38;5;34m0\u001b[0m]     │\n",
       "├─────────────────────┼───────────────────┼────────────┼───────────────────┤\n",
       "│ layer_normalizatio… │ (\u001b[38;5;45mNone\u001b[0m, \u001b[38;5;34m100\u001b[0m, \u001b[38;5;34m7\u001b[0m)    │         \u001b[38;5;34m14\u001b[0m │ add_3[\u001b[38;5;34m0\u001b[0m][\u001b[38;5;34m0\u001b[0m]       │\n",
       "│ (\u001b[38;5;33mLayerNormalizatio…\u001b[0m │                   │            │                   │\n",
       "├─────────────────────┼───────────────────┼────────────┼───────────────────┤\n",
       "│ multi_head_attenti… │ (\u001b[38;5;45mNone\u001b[0m, \u001b[38;5;34m100\u001b[0m, \u001b[38;5;34m7\u001b[0m)    │      \u001b[38;5;34m7,943\u001b[0m │ layer_normalizat… │\n",
       "│ (\u001b[38;5;33mMultiHeadAttentio…\u001b[0m │                   │            │ layer_normalizat… │\n",
       "├─────────────────────┼───────────────────┼────────────┼───────────────────┤\n",
       "│ dropout_7 (\u001b[38;5;33mDropout\u001b[0m) │ (\u001b[38;5;45mNone\u001b[0m, \u001b[38;5;34m100\u001b[0m, \u001b[38;5;34m7\u001b[0m)    │          \u001b[38;5;34m0\u001b[0m │ multi_head_atten… │\n",
       "├─────────────────────┼───────────────────┼────────────┼───────────────────┤\n",
       "│ add_4 (\u001b[38;5;33mAdd\u001b[0m)         │ (\u001b[38;5;45mNone\u001b[0m, \u001b[38;5;34m100\u001b[0m, \u001b[38;5;34m7\u001b[0m)    │          \u001b[38;5;34m0\u001b[0m │ dropout_7[\u001b[38;5;34m0\u001b[0m][\u001b[38;5;34m0\u001b[0m],  │\n",
       "│                     │                   │            │ layer_normalizat… │\n",
       "├─────────────────────┼───────────────────┼────────────┼───────────────────┤\n",
       "│ layer_normalizatio… │ (\u001b[38;5;45mNone\u001b[0m, \u001b[38;5;34m100\u001b[0m, \u001b[38;5;34m7\u001b[0m)    │         \u001b[38;5;34m14\u001b[0m │ add_4[\u001b[38;5;34m0\u001b[0m][\u001b[38;5;34m0\u001b[0m]       │\n",
       "│ (\u001b[38;5;33mLayerNormalizatio…\u001b[0m │                   │            │                   │\n",
       "├─────────────────────┼───────────────────┼────────────┼───────────────────┤\n",
       "│ dense_4 (\u001b[38;5;33mDense\u001b[0m)     │ (\u001b[38;5;45mNone\u001b[0m, \u001b[38;5;34m100\u001b[0m, \u001b[38;5;34m256\u001b[0m)  │      \u001b[38;5;34m2,048\u001b[0m │ layer_normalizat… │\n",
       "├─────────────────────┼───────────────────┼────────────┼───────────────────┤\n",
       "│ dropout_8 (\u001b[38;5;33mDropout\u001b[0m) │ (\u001b[38;5;45mNone\u001b[0m, \u001b[38;5;34m100\u001b[0m, \u001b[38;5;34m256\u001b[0m)  │          \u001b[38;5;34m0\u001b[0m │ dense_4[\u001b[38;5;34m0\u001b[0m][\u001b[38;5;34m0\u001b[0m]     │\n",
       "├─────────────────────┼───────────────────┼────────────┼───────────────────┤\n",
       "│ dense_5 (\u001b[38;5;33mDense\u001b[0m)     │ (\u001b[38;5;45mNone\u001b[0m, \u001b[38;5;34m100\u001b[0m, \u001b[38;5;34m7\u001b[0m)    │      \u001b[38;5;34m1,799\u001b[0m │ dropout_8[\u001b[38;5;34m0\u001b[0m][\u001b[38;5;34m0\u001b[0m]   │\n",
       "├─────────────────────┼───────────────────┼────────────┼───────────────────┤\n",
       "│ add_5 (\u001b[38;5;33mAdd\u001b[0m)         │ (\u001b[38;5;45mNone\u001b[0m, \u001b[38;5;34m100\u001b[0m, \u001b[38;5;34m7\u001b[0m)    │          \u001b[38;5;34m0\u001b[0m │ layer_normalizat… │\n",
       "│                     │                   │            │ dense_5[\u001b[38;5;34m0\u001b[0m][\u001b[38;5;34m0\u001b[0m]     │\n",
       "├─────────────────────┼───────────────────┼────────────┼───────────────────┤\n",
       "│ layer_normalizatio… │ (\u001b[38;5;45mNone\u001b[0m, \u001b[38;5;34m100\u001b[0m, \u001b[38;5;34m7\u001b[0m)    │         \u001b[38;5;34m14\u001b[0m │ add_5[\u001b[38;5;34m0\u001b[0m][\u001b[38;5;34m0\u001b[0m]       │\n",
       "│ (\u001b[38;5;33mLayerNormalizatio…\u001b[0m │                   │            │                   │\n",
       "├─────────────────────┼───────────────────┼────────────┼───────────────────┤\n",
       "│ multi_head_attenti… │ (\u001b[38;5;45mNone\u001b[0m, \u001b[38;5;34m100\u001b[0m, \u001b[38;5;34m7\u001b[0m)    │      \u001b[38;5;34m7,943\u001b[0m │ layer_normalizat… │\n",
       "│ (\u001b[38;5;33mMultiHeadAttentio…\u001b[0m │                   │            │ layer_normalizat… │\n",
       "├─────────────────────┼───────────────────┼────────────┼───────────────────┤\n",
       "│ dropout_10          │ (\u001b[38;5;45mNone\u001b[0m, \u001b[38;5;34m100\u001b[0m, \u001b[38;5;34m7\u001b[0m)    │          \u001b[38;5;34m0\u001b[0m │ multi_head_atten… │\n",
       "│ (\u001b[38;5;33mDropout\u001b[0m)           │                   │            │                   │\n",
       "├─────────────────────┼───────────────────┼────────────┼───────────────────┤\n",
       "│ add_6 (\u001b[38;5;33mAdd\u001b[0m)         │ (\u001b[38;5;45mNone\u001b[0m, \u001b[38;5;34m100\u001b[0m, \u001b[38;5;34m7\u001b[0m)    │          \u001b[38;5;34m0\u001b[0m │ dropout_10[\u001b[38;5;34m0\u001b[0m][\u001b[38;5;34m0\u001b[0m], │\n",
       "│                     │                   │            │ layer_normalizat… │\n",
       "├─────────────────────┼───────────────────┼────────────┼───────────────────┤\n",
       "│ layer_normalizatio… │ (\u001b[38;5;45mNone\u001b[0m, \u001b[38;5;34m100\u001b[0m, \u001b[38;5;34m7\u001b[0m)    │         \u001b[38;5;34m14\u001b[0m │ add_6[\u001b[38;5;34m0\u001b[0m][\u001b[38;5;34m0\u001b[0m]       │\n",
       "│ (\u001b[38;5;33mLayerNormalizatio…\u001b[0m │                   │            │                   │\n",
       "├─────────────────────┼───────────────────┼────────────┼───────────────────┤\n",
       "│ dense_6 (\u001b[38;5;33mDense\u001b[0m)     │ (\u001b[38;5;45mNone\u001b[0m, \u001b[38;5;34m100\u001b[0m, \u001b[38;5;34m256\u001b[0m)  │      \u001b[38;5;34m2,048\u001b[0m │ layer_normalizat… │\n",
       "├─────────────────────┼───────────────────┼────────────┼───────────────────┤\n",
       "│ dropout_11          │ (\u001b[38;5;45mNone\u001b[0m, \u001b[38;5;34m100\u001b[0m, \u001b[38;5;34m256\u001b[0m)  │          \u001b[38;5;34m0\u001b[0m │ dense_6[\u001b[38;5;34m0\u001b[0m][\u001b[38;5;34m0\u001b[0m]     │\n",
       "│ (\u001b[38;5;33mDropout\u001b[0m)           │                   │            │                   │\n",
       "├─────────────────────┼───────────────────┼────────────┼───────────────────┤\n",
       "│ dense_7 (\u001b[38;5;33mDense\u001b[0m)     │ (\u001b[38;5;45mNone\u001b[0m, \u001b[38;5;34m100\u001b[0m, \u001b[38;5;34m7\u001b[0m)    │      \u001b[38;5;34m1,799\u001b[0m │ dropout_11[\u001b[38;5;34m0\u001b[0m][\u001b[38;5;34m0\u001b[0m]  │\n",
       "├─────────────────────┼───────────────────┼────────────┼───────────────────┤\n",
       "│ add_7 (\u001b[38;5;33mAdd\u001b[0m)         │ (\u001b[38;5;45mNone\u001b[0m, \u001b[38;5;34m100\u001b[0m, \u001b[38;5;34m7\u001b[0m)    │          \u001b[38;5;34m0\u001b[0m │ layer_normalizat… │\n",
       "│                     │                   │            │ dense_7[\u001b[38;5;34m0\u001b[0m][\u001b[38;5;34m0\u001b[0m]     │\n",
       "├─────────────────────┼───────────────────┼────────────┼───────────────────┤\n",
       "│ layer_normalizatio… │ (\u001b[38;5;45mNone\u001b[0m, \u001b[38;5;34m100\u001b[0m, \u001b[38;5;34m7\u001b[0m)    │         \u001b[38;5;34m14\u001b[0m │ add_7[\u001b[38;5;34m0\u001b[0m][\u001b[38;5;34m0\u001b[0m]       │\n",
       "│ (\u001b[38;5;33mLayerNormalizatio…\u001b[0m │                   │            │                   │\n",
       "├─────────────────────┼───────────────────┼────────────┼───────────────────┤\n",
       "│ global_average_poo… │ (\u001b[38;5;45mNone\u001b[0m, \u001b[38;5;34m7\u001b[0m)         │          \u001b[38;5;34m0\u001b[0m │ layer_normalizat… │\n",
       "│ (\u001b[38;5;33mGlobalAveragePool…\u001b[0m │                   │            │                   │\n",
       "├─────────────────────┼───────────────────┼────────────┼───────────────────┤\n",
       "│ dense_8 (\u001b[38;5;33mDense\u001b[0m)     │ (\u001b[38;5;45mNone\u001b[0m, \u001b[38;5;34m1\u001b[0m)         │          \u001b[38;5;34m8\u001b[0m │ global_average_p… │\n",
       "└─────────────────────┴───────────────────┴────────────┴───────────────────┘\n"
      ]
     },
     "metadata": {},
     "output_type": "display_data"
    },
    {
     "data": {
      "text/html": [
       "<pre style=\"white-space:pre;overflow-x:auto;line-height:normal;font-family:Menlo,'DejaVu Sans Mono',consolas,'Courier New',monospace\"><span style=\"font-weight: bold\"> Total params: </span><span style=\"color: #00af00; text-decoration-color: #00af00\">47,280</span> (184.69 KB)\n",
       "</pre>\n"
      ],
      "text/plain": [
       "\u001b[1m Total params: \u001b[0m\u001b[38;5;34m47,280\u001b[0m (184.69 KB)\n"
      ]
     },
     "metadata": {},
     "output_type": "display_data"
    },
    {
     "data": {
      "text/html": [
       "<pre style=\"white-space:pre;overflow-x:auto;line-height:normal;font-family:Menlo,'DejaVu Sans Mono',consolas,'Courier New',monospace\"><span style=\"font-weight: bold\"> Trainable params: </span><span style=\"color: #00af00; text-decoration-color: #00af00\">47,280</span> (184.69 KB)\n",
       "</pre>\n"
      ],
      "text/plain": [
       "\u001b[1m Trainable params: \u001b[0m\u001b[38;5;34m47,280\u001b[0m (184.69 KB)\n"
      ]
     },
     "metadata": {},
     "output_type": "display_data"
    },
    {
     "data": {
      "text/html": [
       "<pre style=\"white-space:pre;overflow-x:auto;line-height:normal;font-family:Menlo,'DejaVu Sans Mono',consolas,'Courier New',monospace\"><span style=\"font-weight: bold\"> Non-trainable params: </span><span style=\"color: #00af00; text-decoration-color: #00af00\">0</span> (0.00 B)\n",
       "</pre>\n"
      ],
      "text/plain": [
       "\u001b[1m Non-trainable params: \u001b[0m\u001b[38;5;34m0\u001b[0m (0.00 B)\n"
      ]
     },
     "metadata": {},
     "output_type": "display_data"
    }
   ],
   "source": [
    "# Model parameters\n",
    "input_shape = (100, 7)  # 100 timesteps, 7 features per step\n",
    "head_size = 64\n",
    "num_heads = 4\n",
    "ff_dim = 256\n",
    "num_layers = 4\n",
    "\n",
    "# Build the model\n",
    "model = build_transformer_model(input_shape, head_size, num_heads, ff_dim, num_layers)\n",
    "model.summary()\n"
   ]
  },
  {
   "cell_type": "code",
   "execution_count": 17,
   "id": "e6af8a50-0b17-4868-9f61-fa8c39952228",
   "metadata": {},
   "outputs": [
    {
     "data": {
      "text/plain": [
       "Index(['miRNAid', 'miRNAname', 'geneID', 'geneName', 'geneType', 'chromosome',\n",
       "       'start', 'end', 'strand', 'clipExpNum', 'degraExpNum', 'RBP',\n",
       "       'merClass', 'miRseq', 'align', 'targetSeq', 'TDMDScore', 'phyloP',\n",
       "       'pancancerNum', 'miRseq_structure', 'encoded_sequence',\n",
       "       'encoded_structure', 'padded_sequence', 'padded_structure',\n",
       "       'integrated_data'],\n",
       "      dtype='object')"
      ]
     },
     "execution_count": 17,
     "metadata": {},
     "output_type": "execute_result"
    }
   ],
   "source": [
    "mirna_df.columns"
   ]
  },
  {
   "cell_type": "markdown",
   "id": "92b7fc42-1942-44a9-b95c-a46c20f3cd94",
   "metadata": {},
   "source": [
    "# Prepare the data miRNA dataset"
   ]
  },
  {
   "cell_type": "code",
   "execution_count": 18,
   "id": "e2d073e1-694c-4fd7-9f81-a1b834d58430",
   "metadata": {},
   "outputs": [],
   "source": [
    "from sklearn.model_selection import train_test_split\n",
    "import numpy as np\n",
    "\n",
    "\n",
    "\n",
    "# Define a threshold to classify interactions\n",
    "threshold = 10  # This threshold should be decided based on the distribution of 'clipExpNum' values\n",
    "\n",
    "# Create a binary label column based on 'clipExpNum'\n",
    "mirna_df['Interaction (Label)'] = (mirna_df['clipExpNum'] >= threshold).astype(int)\n",
    "\n",
    "# Now you can proceed with your model training\n",
    "y = mirna_df['Interaction (Label)'].values\n",
    "X = np.array(mirna_df['integrated_data'].tolist())\n",
    "\n",
    "# Split the data into training and testing sets\n",
    "X_train, X_test, y_train, y_test = train_test_split(X, y, test_size=0.2, random_state=42)\n",
    "\n"
   ]
  },
  {
   "cell_type": "code",
   "execution_count": 19,
   "id": "41e91330-f713-4327-998d-75af880386df",
   "metadata": {},
   "outputs": [],
   "source": [
    "# Assuming you have already defined a function `build_transformer_model` to build your model\n",
    "model = build_transformer_model(input_shape=(100, 7), head_size=64, num_heads=4, ff_dim=256, num_layers=4)\n"
   ]
  },
  {
   "cell_type": "code",
   "execution_count": 20,
   "id": "32ee823d-0797-4014-adb5-f6e45241ac40",
   "metadata": {},
   "outputs": [
    {
     "name": "stdout",
     "output_type": "stream",
     "text": [
      "Epoch 1/10\n",
      "\u001b[1m11/11\u001b[0m \u001b[32m━━━━━━━━━━━━━━━━━━━━\u001b[0m\u001b[37m\u001b[0m \u001b[1m20s\u001b[0m 448ms/step - accuracy: 0.9149 - loss: 0.3138 - val_accuracy: 0.9412 - val_loss: 0.2421\n",
      "Epoch 2/10\n",
      "\u001b[1m11/11\u001b[0m \u001b[32m━━━━━━━━━━━━━━━━━━━━\u001b[0m\u001b[37m\u001b[0m \u001b[1m4s\u001b[0m 348ms/step - accuracy: 0.9158 - loss: 0.2923 - val_accuracy: 0.9412 - val_loss: 0.2257\n",
      "Epoch 3/10\n",
      "\u001b[1m11/11\u001b[0m \u001b[32m━━━━━━━━━━━━━━━━━━━━\u001b[0m\u001b[37m\u001b[0m \u001b[1m4s\u001b[0m 272ms/step - accuracy: 0.9100 - loss: 0.3038 - val_accuracy: 0.9412 - val_loss: 0.2286\n",
      "Epoch 4/10\n",
      "\u001b[1m11/11\u001b[0m \u001b[32m━━━━━━━━━━━━━━━━━━━━\u001b[0m\u001b[37m\u001b[0m \u001b[1m5s\u001b[0m 277ms/step - accuracy: 0.9331 - loss: 0.2471 - val_accuracy: 0.9412 - val_loss: 0.2313\n",
      "Epoch 5/10\n",
      "\u001b[1m11/11\u001b[0m \u001b[32m━━━━━━━━━━━━━━━━━━━━\u001b[0m\u001b[37m\u001b[0m \u001b[1m4s\u001b[0m 377ms/step - accuracy: 0.9120 - loss: 0.2960 - val_accuracy: 0.9412 - val_loss: 0.2289\n",
      "Epoch 6/10\n",
      "\u001b[1m11/11\u001b[0m \u001b[32m━━━━━━━━━━━━━━━━━━━━\u001b[0m\u001b[37m\u001b[0m \u001b[1m5s\u001b[0m 342ms/step - accuracy: 0.9210 - loss: 0.2754 - val_accuracy: 0.9412 - val_loss: 0.2311\n",
      "Epoch 7/10\n",
      "\u001b[1m11/11\u001b[0m \u001b[32m━━━━━━━━━━━━━━━━━━━━\u001b[0m\u001b[37m\u001b[0m \u001b[1m3s\u001b[0m 309ms/step - accuracy: 0.9358 - loss: 0.2368 - val_accuracy: 0.9412 - val_loss: 0.2335\n",
      "Epoch 8/10\n",
      "\u001b[1m11/11\u001b[0m \u001b[32m━━━━━━━━━━━━━━━━━━━━\u001b[0m\u001b[37m\u001b[0m \u001b[1m4s\u001b[0m 333ms/step - accuracy: 0.9302 - loss: 0.2507 - val_accuracy: 0.9412 - val_loss: 0.2350\n",
      "Epoch 9/10\n",
      "\u001b[1m11/11\u001b[0m \u001b[32m━━━━━━━━━━━━━━━━━━━━\u001b[0m\u001b[37m\u001b[0m \u001b[1m3s\u001b[0m 304ms/step - accuracy: 0.9238 - loss: 0.2649 - val_accuracy: 0.9412 - val_loss: 0.2339\n",
      "Epoch 10/10\n",
      "\u001b[1m11/11\u001b[0m \u001b[32m━━━━━━━━━━━━━━━━━━━━\u001b[0m\u001b[37m\u001b[0m \u001b[1m5s\u001b[0m 306ms/step - accuracy: 0.9137 - loss: 0.2863 - val_accuracy: 0.9412 - val_loss: 0.2332\n"
     ]
    }
   ],
   "source": [
    "# Model training\n",
    "history = model.fit(X_train, y_train, epochs=10, batch_size=32, validation_data=(X_test, y_test))\n"
   ]
  },
  {
   "cell_type": "code",
   "execution_count": 21,
   "id": "83100ffa-8637-41d9-9b31-c41498f7f48f",
   "metadata": {},
   "outputs": [
    {
     "name": "stdout",
     "output_type": "stream",
     "text": [
      "\u001b[1m3/3\u001b[0m \u001b[32m━━━━━━━━━━━━━━━━━━━━\u001b[0m\u001b[37m\u001b[0m \u001b[1m0s\u001b[0m 122ms/step - accuracy: 0.9432 - loss: 0.2298\n",
      "Test Accuracy: 0.9411764740943909\n"
     ]
    }
   ],
   "source": [
    "# Evaluate the model\n",
    "test_loss, test_acc = model.evaluate(X_test, y_test)\n",
    "print(\"Test Accuracy:\", test_acc)\n"
   ]
  },
  {
   "cell_type": "code",
   "execution_count": 22,
   "id": "0f483379-07be-4a47-be9b-a290583e6f5e",
   "metadata": {},
   "outputs": [
    {
     "data": {
      "image/png": "[encoded data removed]",
      "text/plain": [
       "<Figure size 640x480 with 1 Axes>"
      ]
     },
     "metadata": {},
     "output_type": "display_data"
    },
    {
     "data": {
      "image/png": "[encoded data removed]",
      "text/plain": [
       "<Figure size 640x480 with 1 Axes>"
      ]
     },
     "metadata": {},
     "output_type": "display_data"
    }
   ],
   "source": [
    "import matplotlib.pyplot as plt\n",
    "\n",
    "# Plot training & validation accuracy values\n",
    "plt.plot(history.history['accuracy'])\n",
    "plt.plot(history.history['val_accuracy'])\n",
    "plt.title('Model accuracy')\n",
    "plt.ylabel('Accuracy')\n",
    "plt.xlabel('Epoch')\n",
    "plt.legend(['Train', 'Test'], loc='upper left')\n",
    "plt.show()\n",
    "\n",
    "# Plot training & validation loss values\n",
    "plt.plot(history.history['loss'])\n",
    "plt.plot(history.history['val_loss'])\n",
    "plt.title('Model loss')\n",
    "plt.ylabel('Loss')\n",
    "plt.xlabel('Epoch')\n",
    "plt.legend(['Train', 'Test'], loc='upper left')\n",
    "plt.show()\n"
   ]
  },
  {
   "cell_type": "markdown",
   "id": "31421346-7821-4c8c-8734-1a5f1e586185",
   "metadata": {},
   "source": [
    "# Sequence only Model for miRNA dataset"
   ]
  },
  {
   "cell_type": "code",
   "execution_count": 23,
   "id": "b4f7c669-4175-4d7f-b13e-8b22e18608ef",
   "metadata": {},
   "outputs": [],
   "source": [
    "# Assuming 'encoded_sequence' is already one-hot encoded\n",
    "X_sequence_only = np.array(mirna_df['padded_sequence'].tolist())\n",
    "y = (mirna_df['clipExpNum'] >= 10).astype(int).values  # Replace 10 with your chosen threshold\n",
    "\n",
    "# Split the data\n",
    "X_train_seq, X_test_seq, y_train, y_test = train_test_split(X_sequence_only, y, test_size=0.2, random_state=42)\n"
   ]
  },
  {
   "cell_type": "code",
   "execution_count": 24,
   "id": "71bb2b36-ff62-4d39-8bca-a95a13fbd3e9",
   "metadata": {},
   "outputs": [],
   "source": [
    "def build_sequence_only_model(input_shape, num_layers=4, model_size=64, num_heads=4, ff_dim=256, dropout=0.1):\n",
    "    inputs = tf.keras.Input(shape=input_shape)\n",
    "    x = tf.keras.layers.Dense(model_size)(inputs)  # This dense layer projects input to the desired dimension\n",
    "\n",
    "    for _ in range(num_layers):\n",
    "        x = transformer_block(x, model_size, num_heads, ff_dim, dropout)\n",
    "\n",
    "    x = tf.keras.layers.GlobalAveragePooling1D()(x)\n",
    "    outputs = tf.keras.layers.Dense(1, activation='sigmoid')(x)\n",
    "\n",
    "    model = tf.keras.Model(inputs=inputs, outputs=outputs)\n",
    "    model.compile(optimizer='adam', loss='binary_crossentropy', metrics=['accuracy'])\n",
    "    return model\n",
    "\n",
    "model_sequence_only = build_sequence_only_model((100, 7))\n"
   ]
  },
  {
   "cell_type": "code",
   "execution_count": 25,
   "id": "d70260b4-f372-4567-babe-c0411224d896",
   "metadata": {},
   "outputs": [
    {
     "name": "stdout",
     "output_type": "stream",
     "text": [
      "Epoch 1/10\n",
      "\u001b[1m11/11\u001b[0m \u001b[32m━━━━━━━━━━━━━━━━━━━━\u001b[0m\u001b[37m\u001b[0m \u001b[1m21s\u001b[0m 649ms/step - accuracy: 0.7958 - loss: 0.5851 - val_accuracy: 0.9412 - val_loss: 0.2435\n",
      "Epoch 2/10\n",
      "\u001b[1m11/11\u001b[0m \u001b[32m━━━━━━━━━━━━━━━━━━━━\u001b[0m\u001b[37m\u001b[0m \u001b[1m5s\u001b[0m 436ms/step - accuracy: 0.9147 - loss: 0.3306 - val_accuracy: 0.9412 - val_loss: 0.2249\n",
      "Epoch 3/10\n",
      "\u001b[1m11/11\u001b[0m \u001b[32m━━━━━━━━━━━━━━━━━━━━\u001b[0m\u001b[37m\u001b[0m \u001b[1m5s\u001b[0m 493ms/step - accuracy: 0.9341 - loss: 0.2458 - val_accuracy: 0.9412 - val_loss: 0.2323\n",
      "Epoch 4/10\n",
      "\u001b[1m11/11\u001b[0m \u001b[32m━━━━━━━━━━━━━━━━━━━━\u001b[0m\u001b[37m\u001b[0m \u001b[1m5s\u001b[0m 417ms/step - accuracy: 0.9055 - loss: 0.3214 - val_accuracy: 0.9412 - val_loss: 0.2239\n",
      "Epoch 5/10\n",
      "\u001b[1m11/11\u001b[0m \u001b[32m━━━━━━━━━━━━━━━━━━━━\u001b[0m\u001b[37m\u001b[0m \u001b[1m5s\u001b[0m 446ms/step - accuracy: 0.9056 - loss: 0.3253 - val_accuracy: 0.9412 - val_loss: 0.2266\n",
      "Epoch 6/10\n",
      "\u001b[1m11/11\u001b[0m \u001b[32m━━━━━━━━━━━━━━━━━━━━\u001b[0m\u001b[37m\u001b[0m \u001b[1m5s\u001b[0m 445ms/step - accuracy: 0.8835 - loss: 0.3740 - val_accuracy: 0.9412 - val_loss: 0.2260\n",
      "Epoch 7/10\n",
      "\u001b[1m11/11\u001b[0m \u001b[32m━━━━━━━━━━━━━━━━━━━━\u001b[0m\u001b[37m\u001b[0m \u001b[1m5s\u001b[0m 439ms/step - accuracy: 0.9214 - loss: 0.2853 - val_accuracy: 0.9412 - val_loss: 0.2248\n",
      "Epoch 8/10\n",
      "\u001b[1m11/11\u001b[0m \u001b[32m━━━━━━━━━━━━━━━━━━━━\u001b[0m\u001b[37m\u001b[0m \u001b[1m5s\u001b[0m 417ms/step - accuracy: 0.9138 - loss: 0.2965 - val_accuracy: 0.9412 - val_loss: 0.2306\n",
      "Epoch 9/10\n",
      "\u001b[1m11/11\u001b[0m \u001b[32m━━━━━━━━━━━━━━━━━━━━\u001b[0m\u001b[37m\u001b[0m \u001b[1m5s\u001b[0m 431ms/step - accuracy: 0.9067 - loss: 0.3096 - val_accuracy: 0.9412 - val_loss: 0.2258\n",
      "Epoch 10/10\n",
      "\u001b[1m11/11\u001b[0m \u001b[32m━━━━━━━━━━━━━━━━━━━━\u001b[0m\u001b[37m\u001b[0m \u001b[1m5s\u001b[0m 451ms/step - accuracy: 0.9297 - loss: 0.2609 - val_accuracy: 0.9412 - val_loss: 0.2276\n"
     ]
    }
   ],
   "source": [
    "seqeunce_history = model_sequence_only.fit(X_train, y_train, epochs=10, batch_size=32, validation_data=(X_test, y_test))\n"
   ]
  },
  {
   "cell_type": "code",
   "execution_count": 26,
   "id": "1a512b6c-965b-4980-b843-12e38d169cde",
   "metadata": {},
   "outputs": [
    {
     "name": "stdout",
     "output_type": "stream",
     "text": [
      "\u001b[1m3/3\u001b[0m \u001b[32m━━━━━━━━━━━━━━━━━━━━\u001b[0m\u001b[37m\u001b[0m \u001b[1m0s\u001b[0m 151ms/step - accuracy: 0.9432 - loss: 0.2226\n",
      "Test Accuracy: 0.9411764740943909\n"
     ]
    }
   ],
   "source": [
    "test_loss, test_acc = model_sequence_only.evaluate(X_test, y_test)\n",
    "print(f\"Test Accuracy: {test_acc}\")\n"
   ]
  },
  {
   "cell_type": "code",
   "execution_count": 27,
   "id": "d0f4dd87-42e1-4e86-8a52-3e92ead1306f",
   "metadata": {},
   "outputs": [
    {
     "data": {
      "image/png": "[encoded data removed]",
      "text/plain": [
       "<Figure size 1200x500 with 2 Axes>"
      ]
     },
     "metadata": {},
     "output_type": "display_data"
    }
   ],
   "source": [
    "import matplotlib.pyplot as plt\n",
    "\n",
    "plt.figure(figsize=(12, 5))\n",
    "\n",
    "plt.subplot(1, 2, 1)\n",
    "plt.plot(history.history['accuracy'], label='Train Accuracy')\n",
    "plt.plot(history.history['val_accuracy'], label='Validation Accuracy')\n",
    "plt.title('Model Accuracy')\n",
    "plt.xlabel('Epochs')\n",
    "plt.ylabel('Accuracy')\n",
    "plt.legend()\n",
    "\n",
    "plt.subplot(1, 2, 2)\n",
    "plt.plot(history.history['loss'], label='Train Loss')\n",
    "plt.plot(history.history['val_loss'], label='Validation Loss')\n",
    "plt.title('Model Loss')\n",
    "plt.xlabel('Epochs')\n",
    "plt.ylabel('Loss')\n",
    "plt.legend()\n",
    "\n",
    "plt.tight_layout()\n",
    "plt.show()\n"
   ]
  },
  {
   "cell_type": "code",
   "execution_count": null,
   "id": "4075f745-54ee-4d2d-9eb6-fae62cb5ef70",
   "metadata": {},
   "outputs": [],
   "source": []
  },
  {
   "cell_type": "markdown",
   "id": "c93d6bd8-f841-4a89-a193-5a06cf14013f",
   "metadata": {},
   "source": [
    "## Sequence + Structure Model "
   ]
  },
  {
   "cell_type": "code",
   "execution_count": 28,
   "id": "c77c7c43-e9a6-4c6f-9f9f-008d9a1d3a3e",
   "metadata": {},
   "outputs": [],
   "source": [
    "X_sequence_structure = np.array(mirna_df['integrated_data'].tolist())\n",
    "\n",
    "# Split the data\n",
    "X_train_ss, X_test_ss, y_train, y_test = train_test_split(X_sequence_structure, y, test_size=0.2, random_state=42)\n"
   ]
  },
  {
   "cell_type": "code",
   "execution_count": 29,
   "id": "8e9a2df1-3788-4bb1-b1ec-f0e5f5e19579",
   "metadata": {},
   "outputs": [],
   "source": [
    "import tensorflow as tf\n",
    "from tensorflow.keras.layers import Input, Dense, GlobalAveragePooling1D, LayerNormalization, Dropout\n",
    "from tensorflow.keras.models import Model\n",
    "\n",
    "def transformer_block(inputs, model_size, num_heads, ff_dim, dropout=0.1):\n",
    "    # Multi-head self-attention\n",
    "    attention = tf.keras.layers.MultiHeadAttention(num_heads=num_heads, key_dim=model_size)(inputs, inputs)\n",
    "    attention = Dropout(dropout)(attention)\n",
    "    attention_out = LayerNormalization(epsilon=1e-6)(inputs + attention)\n",
    "\n",
    "    # Feed-forward network\n",
    "    ffn = tf.keras.layers.Dense(ff_dim, activation='relu')(attention_out)\n",
    "    ffn = Dropout(dropout)(ffn)\n",
    "    ffn_out = tf.keras.layers.Dense(model_size)(ffn)\n",
    "    ffn_out = LayerNormalization(epsilon=1e-6)(attention_out + ffn_out)\n",
    "\n",
    "    return ffn_out\n",
    "\n"
   ]
  },
  {
   "cell_type": "code",
   "execution_count": 30,
   "id": "cff912ad-ce74-41ef-9079-33df4a75c6cf",
   "metadata": {},
   "outputs": [],
   "source": [
    "def build_sequence_structure_model(input_shape, num_layers=4, model_size=64, num_heads=4, ff_dim=256, dropout=0.1):\n",
    "    inputs = Input(shape=input_shape)\n",
    "    x = Dense(model_size)(inputs)  # Projecting input to match model_size for the attention mechanism\n",
    "\n",
    "    for _ in range(num_layers):\n",
    "        x = transformer_block(x, model_size, num_heads, ff_dim, dropout)\n",
    "\n",
    "    x = GlobalAveragePooling1D()(x)\n",
    "    outputs = Dense(1, activation='sigmoid')(x)\n",
    "\n",
    "    model = Model(inputs=inputs, outputs=outputs)\n",
    "    model.compile(optimizer='adam', loss='binary_crossentropy', metrics=['accuracy'])\n",
    "    return model\n",
    "\n",
    "# Assuming you start with an input shape where the last dimension does not initially match the model_size\n",
    "model_sequence_structure = build_sequence_structure_model((100, 7), model_size=64)  # Ensure correct input shape"
   ]
  },
  {
   "cell_type": "code",
   "execution_count": 31,
   "id": "42175b18-8284-4b1e-9987-c310d8ee0137",
   "metadata": {},
   "outputs": [
    {
     "name": "stdout",
     "output_type": "stream",
     "text": [
      "Epoch 1/10\n",
      "\u001b[1m11/11\u001b[0m \u001b[32m━━━━━━━━━━━━━━━━━━━━\u001b[0m\u001b[37m\u001b[0m \u001b[1m20s\u001b[0m 489ms/step - accuracy: 0.7803 - loss: 0.5519 - val_accuracy: 0.9412 - val_loss: 0.2451\n",
      "Epoch 2/10\n",
      "\u001b[1m11/11\u001b[0m \u001b[32m━━━━━━━━━━━━━━━━━━━━\u001b[0m\u001b[37m\u001b[0m \u001b[1m4s\u001b[0m 393ms/step - accuracy: 0.9146 - loss: 0.3268 - val_accuracy: 0.9412 - val_loss: 0.2524\n",
      "Epoch 3/10\n",
      "\u001b[1m11/11\u001b[0m \u001b[32m━━━━━━━━━━━━━━━━━━━━\u001b[0m\u001b[37m\u001b[0m \u001b[1m5s\u001b[0m 416ms/step - accuracy: 0.9122 - loss: 0.3047 - val_accuracy: 0.9412 - val_loss: 0.2243\n",
      "Epoch 4/10\n",
      "\u001b[1m11/11\u001b[0m \u001b[32m━━━━━━━━━━━━━━━━━━━━\u001b[0m\u001b[37m\u001b[0m \u001b[1m5s\u001b[0m 422ms/step - accuracy: 0.9110 - loss: 0.3053 - val_accuracy: 0.9412 - val_loss: 0.2321\n",
      "Epoch 5/10\n",
      "\u001b[1m11/11\u001b[0m \u001b[32m━━━━━━━━━━━━━━━━━━━━\u001b[0m\u001b[37m\u001b[0m \u001b[1m5s\u001b[0m 433ms/step - accuracy: 0.9205 - loss: 0.2795 - val_accuracy: 0.9412 - val_loss: 0.2242\n",
      "Epoch 6/10\n",
      "\u001b[1m11/11\u001b[0m \u001b[32m━━━━━━━━━━━━━━━━━━━━\u001b[0m\u001b[37m\u001b[0m \u001b[1m5s\u001b[0m 398ms/step - accuracy: 0.9443 - loss: 0.2162 - val_accuracy: 0.9412 - val_loss: 0.2395\n",
      "Epoch 7/10\n",
      "\u001b[1m11/11\u001b[0m \u001b[32m━━━━━━━━━━━━━━━━━━━━\u001b[0m\u001b[37m\u001b[0m \u001b[1m4s\u001b[0m 404ms/step - accuracy: 0.9063 - loss: 0.3184 - val_accuracy: 0.9412 - val_loss: 0.2241\n",
      "Epoch 8/10\n",
      "\u001b[1m11/11\u001b[0m \u001b[32m━━━━━━━━━━━━━━━━━━━━\u001b[0m\u001b[37m\u001b[0m \u001b[1m4s\u001b[0m 389ms/step - accuracy: 0.9314 - loss: 0.2548 - val_accuracy: 0.9412 - val_loss: 0.2265\n",
      "Epoch 9/10\n",
      "\u001b[1m11/11\u001b[0m \u001b[32m━━━━━━━━━━━━━━━━━━━━\u001b[0m\u001b[37m\u001b[0m \u001b[1m4s\u001b[0m 411ms/step - accuracy: 0.9281 - loss: 0.2636 - val_accuracy: 0.9412 - val_loss: 0.2304\n",
      "Epoch 10/10\n",
      "\u001b[1m11/11\u001b[0m \u001b[32m━━━━━━━━━━━━━━━━━━━━\u001b[0m\u001b[37m\u001b[0m \u001b[1m5s\u001b[0m 397ms/step - accuracy: 0.9209 - loss: 0.2782 - val_accuracy: 0.9412 - val_loss: 0.2300\n"
     ]
    }
   ],
   "source": [
    "history = model_sequence_structure.fit(X_train_ss, y_train, epochs=10, batch_size=32, validation_data=(X_test_ss, y_test))\n"
   ]
  },
  {
   "cell_type": "code",
   "execution_count": 32,
   "id": "f1158746-b0a4-4d77-ba76-a5b778fd87a7",
   "metadata": {},
   "outputs": [
    {
     "name": "stdout",
     "output_type": "stream",
     "text": [
      "\u001b[1m3/3\u001b[0m \u001b[32m━━━━━━━━━━━━━━━━━━━━\u001b[0m\u001b[37m\u001b[0m \u001b[1m0s\u001b[0m 141ms/step - accuracy: 0.9432 - loss: 0.2253\n",
      "Test Accuracy: 0.9411764740943909\n"
     ]
    }
   ],
   "source": [
    "test_loss, test_acc = model_sequence_structure.evaluate(X_test_ss, y_test)\n",
    "print(f\"Test Accuracy: {test_acc}\")\n"
   ]
  },
  {
   "cell_type": "code",
   "execution_count": null,
   "id": "c8af629e-7ec2-43c7-82ff-e27973eb4501",
   "metadata": {},
   "outputs": [],
   "source": []
  },
  {
   "cell_type": "code",
   "execution_count": null,
   "id": "fae1b815-ea8a-4127-91a5-a5a52fe8539a",
   "metadata": {},
   "outputs": [],
   "source": []
  },
  {
   "cell_type": "markdown",
   "id": "ea0fa103-40fb-4173-b1d9-257684e16397",
   "metadata": {},
   "source": [
    "## Structure Only Model "
   ]
  },
  {
   "cell_type": "code",
   "execution_count": 33,
   "id": "796dccf3-d5b5-4e63-8d01-a726ef62336f",
   "metadata": {},
   "outputs": [],
   "source": [
    "X_structure_only = np.array(mirna_df['padded_structure'].tolist())\n",
    "\n",
    "# Split the data\n",
    "X_train_struct, X_test_struct, y_train, y_test = train_test_split(X_structure_only, y, test_size=0.2, random_state=42)\n"
   ]
  },
  {
   "cell_type": "code",
   "execution_count": 34,
   "id": "890f9dab-32fc-49b2-b798-28f9cabbb9ab",
   "metadata": {},
   "outputs": [],
   "source": [
    "def transformer_block(inputs, model_size, num_heads, ff_dim, dropout=0.1):\n",
    "    # Multi-head self-attention\n",
    "    attention = tf.keras.layers.MultiHeadAttention(num_heads=num_heads, key_dim=model_size)(inputs, inputs)\n",
    "    attention = Dropout(dropout)(attention)\n",
    "    attention_out = LayerNormalization(epsilon=1e-6)(inputs + attention)\n",
    "\n",
    "    # Feed-forward network\n",
    "    ffn = tf.keras.layers.Dense(ff_dim, activation='relu')(attention_out)\n",
    "    ffn = Dropout(dropout)(ffn)\n",
    "    ffn_out = tf.keras.layers.Dense(model_size)(ffn)\n",
    "    ffn_out = LayerNormalization(epsilon=1e-6)(attention_out + ffn_out)\n",
    "\n",
    "    return ffn_out\n",
    "\n"
   ]
  },
  {
   "cell_type": "code",
   "execution_count": null,
   "id": "2b60542d-ad22-47b0-88de-b45c0a761d14",
   "metadata": {},
   "outputs": [],
   "source": []
  },
  {
   "cell_type": "code",
   "execution_count": 35,
   "id": "c4783d04-c4e8-43aa-affc-2a251fb61e07",
   "metadata": {},
   "outputs": [],
   "source": [
    "def build_structure_only_model(input_shape, num_layers=4, model_size=64, num_heads=4, ff_dim=256, dropout=0.1):\n",
    "    inputs = Input(shape=input_shape)\n",
    "    x = Dense(model_size)(inputs)  # Projecting input to match model_size\n",
    "\n",
    "    for _ in range(num_layers):\n",
    "        x = transformer_block(x, model_size, num_heads, ff_dim, dropout)\n",
    "\n",
    "    x = GlobalAveragePooling1D()(x)\n",
    "    outputs = Dense(1, activation='sigmoid')(x)\n",
    "\n",
    "    model = Model(inputs=inputs, outputs=outputs)\n",
    "    model.compile(optimizer='adam', loss='binary_crossentropy', metrics=['accuracy'])\n",
    "    return model\n",
    "\n",
    "# Adjust the input shape based on your actual data preparation\n",
    "model_structure_only = build_structure_only_model((100, 3))  # Assuming 100 time steps and 3 features per step\n"
   ]
  },
  {
   "cell_type": "code",
   "execution_count": 36,
   "id": "952baf33-a36b-4d71-bfe3-33a224f025f7",
   "metadata": {},
   "outputs": [
    {
     "name": "stdout",
     "output_type": "stream",
     "text": [
      "Epoch 1/10\n",
      "\u001b[1m11/11\u001b[0m \u001b[32m━━━━━━━━━━━━━━━━━━━━\u001b[0m\u001b[37m\u001b[0m \u001b[1m23s\u001b[0m 509ms/step - accuracy: 0.7175 - loss: 0.5363 - val_accuracy: 0.9412 - val_loss: 0.2269\n",
      "Epoch 2/10\n",
      "\u001b[1m11/11\u001b[0m \u001b[32m━━━━━━━━━━━━━━━━━━━━\u001b[0m\u001b[37m\u001b[0m \u001b[1m5s\u001b[0m 461ms/step - accuracy: 0.9098 - loss: 0.3095 - val_accuracy: 0.9412 - val_loss: 0.2402\n",
      "Epoch 3/10\n",
      "\u001b[1m11/11\u001b[0m \u001b[32m━━━━━━━━━━━━━━━━━━━━\u001b[0m\u001b[37m\u001b[0m \u001b[1m5s\u001b[0m 437ms/step - accuracy: 0.9101 - loss: 0.3557 - val_accuracy: 0.9412 - val_loss: 0.2357\n",
      "Epoch 4/10\n",
      "\u001b[1m11/11\u001b[0m \u001b[32m━━━━━━━━━━━━━━━━━━━━\u001b[0m\u001b[37m\u001b[0m \u001b[1m5s\u001b[0m 454ms/step - accuracy: 0.9139 - loss: 0.3036 - val_accuracy: 0.9412 - val_loss: 0.2238\n",
      "Epoch 5/10\n",
      "\u001b[1m11/11\u001b[0m \u001b[32m━━━━━━━━━━━━━━━━━━━━\u001b[0m\u001b[37m\u001b[0m \u001b[1m5s\u001b[0m 429ms/step - accuracy: 0.8976 - loss: 0.3484 - val_accuracy: 0.9412 - val_loss: 0.2266\n",
      "Epoch 6/10\n",
      "\u001b[1m11/11\u001b[0m \u001b[32m━━━━━━━━━━━━━━━━━━━━\u001b[0m\u001b[37m\u001b[0m \u001b[1m5s\u001b[0m 451ms/step - accuracy: 0.9208 - loss: 0.2798 - val_accuracy: 0.9412 - val_loss: 0.2303\n",
      "Epoch 7/10\n",
      "\u001b[1m11/11\u001b[0m \u001b[32m━━━━━━━━━━━━━━━━━━━━\u001b[0m\u001b[37m\u001b[0m \u001b[1m6s\u001b[0m 568ms/step - accuracy: 0.9027 - loss: 0.3205 - val_accuracy: 0.9412 - val_loss: 0.2247\n",
      "Epoch 8/10\n",
      "\u001b[1m11/11\u001b[0m \u001b[32m━━━━━━━━━━━━━━━━━━━━\u001b[0m\u001b[37m\u001b[0m \u001b[1m9s\u001b[0m 467ms/step - accuracy: 0.9099 - loss: 0.3083 - val_accuracy: 0.9412 - val_loss: 0.2271\n",
      "Epoch 9/10\n",
      "\u001b[1m11/11\u001b[0m \u001b[32m━━━━━━━━━━━━━━━━━━━━\u001b[0m\u001b[37m\u001b[0m \u001b[1m5s\u001b[0m 472ms/step - accuracy: 0.9275 - loss: 0.2617 - val_accuracy: 0.9412 - val_loss: 0.2322\n",
      "Epoch 10/10\n",
      "\u001b[1m11/11\u001b[0m \u001b[32m━━━━━━━━━━━━━━━━━━━━\u001b[0m\u001b[37m\u001b[0m \u001b[1m5s\u001b[0m 426ms/step - accuracy: 0.9180 - loss: 0.2867 - val_accuracy: 0.9412 - val_loss: 0.2270\n"
     ]
    }
   ],
   "source": [
    "history_structure_only = model_structure_only.fit(X_train_struct, y_train, epochs=10, batch_size=32, validation_data=(X_test_struct, y_test))\n"
   ]
  },
  {
   "cell_type": "code",
   "execution_count": 37,
   "id": "86230270-3b1e-4329-8b17-8ee369156de4",
   "metadata": {},
   "outputs": [
    {
     "name": "stdout",
     "output_type": "stream",
     "text": [
      "\u001b[1m3/3\u001b[0m \u001b[32m━━━━━━━━━━━━━━━━━━━━\u001b[0m\u001b[37m\u001b[0m \u001b[1m0s\u001b[0m 118ms/step - accuracy: 0.9432 - loss: 0.2221\n",
      "Test Accuracy: 0.9411764740943909\n"
     ]
    }
   ],
   "source": [
    "test_loss, test_acc = model_structure_only.evaluate(X_test_struct, y_test)\n",
    "print(f\"Test Accuracy: {test_acc}\")\n"
   ]
  },
  {
   "cell_type": "markdown",
   "id": "d96f1cd4-4e5a-47e6-b703-f44211b9f7c2",
   "metadata": {},
   "source": [
    "# Prepare data for lncRNA Dataset"
   ]
  },
  {
   "cell_type": "code",
   "execution_count": 38,
   "id": "abe78fea-55be-49ca-a94c-e6b3108f62b0",
   "metadata": {},
   "outputs": [
    {
     "data": {
      "text/plain": [
       "Index(['geneId', 'geneName', 'mirna', 'species', 'cell_line', 'tissue',\n",
       "       'category', 'method', 'positive_negative', 'direct_indirect',\n",
       "       'condition', 'Sequence', 'Sequence_structure', 'encoded_sequence',\n",
       "       'encoded_structure', 'padded_sequence', 'padded_structure',\n",
       "       'integrated_data'],\n",
       "      dtype='object')"
      ]
     },
     "execution_count": 38,
     "metadata": {},
     "output_type": "execute_result"
    }
   ],
   "source": [
    "lncrna_df.columns"
   ]
  },
  {
   "cell_type": "code",
   "execution_count": 39,
   "id": "dae79f7b-16f9-4ea8-8538-1eafd9db5100",
   "metadata": {},
   "outputs": [
    {
     "name": "stdout",
     "output_type": "stream",
     "text": [
      "Unique characters in structure data: {'.', '(', '[', ')', ']'}\n"
     ]
    }
   ],
   "source": [
    "# Finding unique characters in the structure sequences\n",
    "unique_chars = set(''.join(lncrna_df['Sequence_structure'].dropna()))  # Use dropna() to avoid errors on NaN values\n",
    "print(\"Unique characters in structure data:\", unique_chars)\n"
   ]
  },
  {
   "cell_type": "code",
   "execution_count": 40,
   "id": "bc03440b-5df9-413b-a071-b7b7f4f9c737",
   "metadata": {},
   "outputs": [],
   "source": [
    "def encode_structure(structure):\n",
    "    # Define a mapping for each character found in the structural data\n",
    "    mapping = {\n",
    "        '.': 0,  # unpaired\n",
    "        '(': 1,  # paired left\n",
    "        ')': 2,  # paired right\n",
    "        '[': 3,  # additional characters if they exist in your data\n",
    "        ']': 4,   # similarly, other characters\n",
    "        '}': 5,\n",
    "    \n",
    "        # Add more mappings based on the output of unique_chars\n",
    "    }\n",
    "    # Use mapping.get to handle any unexpected characters safely\n",
    "    return [mapping.get(char, -1) for char in structure]  # -1 or another number can be used for unexpected characters\n",
    "\n",
    "# Apply this function to each structure in the DataFrame\n",
    "lncrna_df['encoded_structure'] = lncrna_df['Sequence_structure'].apply(encode_structure)\n",
    "lncbase_df = lncrna_df"
   ]
  },
  {
   "cell_type": "code",
   "execution_count": 41,
   "id": "7c8949a4-1d14-4c78-b85f-9ff854678164",
   "metadata": {},
   "outputs": [
    {
     "name": "stdout",
     "output_type": "stream",
     "text": [
      "Length of features: 5671\n",
      "Length of labels: 424\n"
     ]
    }
   ],
   "source": [
    "from tensorflow.keras.preprocessing.sequence import pad_sequences\n",
    "\n",
    "# Pad the encoded structures\n",
    "X_structure = pad_sequences(lncbase_df['encoded_structure'].tolist(), padding='post', maxlen=100)\n",
    "X_structure = np.array(X_structure)  # Convert to a numpy array\n",
    "\n",
    "print(\"Length of features:\", len(X_structure))\n",
    "print(\"Length of labels:\", len(y))"
   ]
  },
  {
   "cell_type": "code",
   "execution_count": 42,
   "id": "b198f831-ca0f-400a-b22c-729b37529795",
   "metadata": {},
   "outputs": [],
   "source": [
    "# Assuming X_structure was previously padded but needs feature dimension\n",
    "X_structure = X_structure.reshape(-1, 100, 1)  # Reshape to include feature dimension\n"
   ]
  },
  {
   "cell_type": "code",
   "execution_count": 43,
   "id": "ae67effb-96d1-4377-a80f-2d952c4189aa",
   "metadata": {},
   "outputs": [
    {
     "name": "stdout",
     "output_type": "stream",
     "text": [
      "Shape of X_structure after adjustment: (5671, 100, 1)\n"
     ]
    }
   ],
   "source": [
    "# If you are sure your data should have a third dimension\n",
    "if len(X_structure.shape) == 2:  # Only batch and sequence length dimensions are present\n",
    "    X_structure = np.expand_dims(X_structure, axis=-1)  # Add a singleton dimension for features\n",
    "\n",
    "# Confirm the shape\n",
    "print(\"Shape of X_structure after adjustment:\", X_structure.shape)\n"
   ]
  },
  {
   "cell_type": "code",
   "execution_count": 44,
   "id": "c7e7edf2-bc38-433d-aea1-bb62878e682b",
   "metadata": {},
   "outputs": [],
   "source": [
    "# Assuming that `positive_negative` might be your label column\n",
    "if 'positive_negative' in lncbase_df.columns:\n",
    "    y = lncbase_df['positive_negative'].apply(lambda x: 1 if x == 'positive' else 0).values\n",
    "else:\n",
    "    # Generate placeholder labels if actual labels are not available\n",
    "    y = np.random.randint(2, size=len(X_structure))  # Make sure this matches your feature set\n",
    "\n",
    "# Now retry the split\n",
    "X_train_struct, X_test_struct, y_train, y_test = train_test_split(X_structure, y, test_size=0.2, random_state=42)\n"
   ]
  },
  {
   "cell_type": "code",
   "execution_count": 45,
   "id": "dd35a127-9f75-47c2-9eb5-a37561f521ff",
   "metadata": {},
   "outputs": [
    {
     "name": "stdout",
     "output_type": "stream",
     "text": [
      "Length of features: 5671\n",
      "Length of labels: 5671\n"
     ]
    }
   ],
   "source": [
    "print(\"Length of features:\", len(X_structure))\n",
    "print(\"Length of labels:\", len(y))\n",
    "\n"
   ]
  },
  {
   "cell_type": "markdown",
   "id": "20f208ae-e72d-45ec-b052-f4fb339c8016",
   "metadata": {},
   "source": [
    "## Structure Only Model for lncRNA"
   ]
  },
  {
   "cell_type": "code",
   "execution_count": 46,
   "id": "4396bcea-374c-48df-9ddb-5c8886b6a20c",
   "metadata": {},
   "outputs": [],
   "source": [
    "model_size = 64  # Reduced for simplicity and divisibility\n",
    "num_heads = 4    # This should divide model_size evenly\n",
    "\n",
    "# Ensure model_size is divisible by num_heads\n",
    "assert model_size % num_heads == 0, \"model_size must be divisible by num_heads\"\n"
   ]
  },
  {
   "cell_type": "code",
   "execution_count": 47,
   "id": "af161ec6-23a2-4e71-9ba2-532499776783",
   "metadata": {},
   "outputs": [],
   "source": [
    "import tensorflow as tf\n",
    "from tensorflow.keras.layers import Input, Dense, GlobalAveragePooling1D, LayerNormalization, Dropout, TimeDistributed\n",
    "from tensorflow.keras.models import Model\n",
    "\n",
    "def transformer_block(inputs, model_size, num_heads, ff_dim, dropout=0.1):\n",
    "    attention_layer = tf.keras.layers.MultiHeadAttention(num_heads=num_heads, key_dim=model_size)\n",
    "    attention_output = attention_layer(inputs, inputs)\n",
    "    attention_output = tf.keras.layers.Dropout(dropout)(attention_output)\n",
    "    attention_output = tf.keras.layers.LayerNormalization(epsilon=1e-6)(inputs + attention_output)\n",
    "    print(\"After Attention:\", attention_output.shape)\n",
    "\n",
    "    # Feed-forward network, ensure output size matches model_size\n",
    "    ffn = tf.keras.layers.Dense(ff_dim, activation='relu')(attention_output)\n",
    "    ffn = tf.keras.layers.Dropout(dropout)(ffn)\n",
    "    ffn_output = tf.keras.layers.Dense(model_size)(ffn)\n",
    "    ffn_output = tf.keras.layers.LayerNormalization(epsilon=1e-6)(ffn_output)\n",
    "    print(\"After FFN:\", ffn_output.shape)\n",
    "\n",
    "    # Explicitly ensuring dimensions match before adding\n",
    "    if ffn_output.shape[-1] != attention_output.shape[-1]:\n",
    "        ffn_output = tf.keras.layers.Dense(attention_output.shape[-1])(ffn_output)\n",
    "\n",
    "    # Using Add layer to combine\n",
    "    combined_output = tf.keras.layers.Add()([attention_output, ffn_output])\n",
    "    final_output = tf.keras.layers.LayerNormalization(epsilon=1e-6)(combined_output)\n",
    "    print(\"After Add and Normalize:\", final_output.shape)\n",
    "\n",
    "    return final_output\n",
    "\n",
    "\n"
   ]
  },
  {
   "cell_type": "code",
   "execution_count": 48,
   "id": "67b2b9bd-3270-43bd-a74c-a87813048e76",
   "metadata": {},
   "outputs": [
    {
     "name": "stdout",
     "output_type": "stream",
     "text": [
      "After Attention: (None, 100, 3)\n",
      "After FFN: (None, 100, 64)\n",
      "After Add and Normalize: (None, 100, 3)\n",
      "After Attention: (None, 100, 3)\n",
      "After FFN: (None, 100, 64)\n",
      "After Add and Normalize: (None, 100, 3)\n",
      "After Attention: (None, 100, 3)\n",
      "After FFN: (None, 100, 64)\n",
      "After Add and Normalize: (None, 100, 3)\n",
      "After Attention: (None, 100, 3)\n",
      "After FFN: (None, 100, 64)\n",
      "After Add and Normalize: (None, 100, 3)\n"
     ]
    }
   ],
   "source": [
    "def build_structure_only_model(input_shape=(100, 3), num_layers=4, model_size=64, num_heads=4, ff_dim=256, dropout=0.1):\n",
    "    inputs = tf.keras.Input(shape=input_shape)\n",
    "    x = inputs\n",
    "\n",
    "    for _ in range(num_layers):\n",
    "        x = transformer_block(x, model_size, num_heads, ff_dim, dropout)\n",
    "\n",
    "    x = tf.keras.layers.GlobalAveragePooling1D()(x)\n",
    "    outputs = tf.keras.layers.Dense(1, activation='sigmoid')(x)\n",
    "\n",
    "    model = tf.keras.Model(inputs=inputs, outputs=outputs)\n",
    "    model.compile(optimizer='adam', loss='binary_crossentropy', metrics=['accuracy'])\n",
    "    return model\n",
    "\n",
    "# Ensure the model is built with the correct input shape\n",
    "model_structure_only = build_structure_only_model(input_shape=(100, 3))\n"
   ]
  },
  {
   "cell_type": "code",
   "execution_count": 49,
   "id": "e6960b8e-88b0-4eb8-a6ce-e5dbc6bf878f",
   "metadata": {},
   "outputs": [
    {
     "name": "stdout",
     "output_type": "stream",
     "text": [
      "Data shape: (4536, 100, 1)\n",
      "Model input spec: (None, 100, 3)\n"
     ]
    }
   ],
   "source": [
    "print(\"Data shape:\", X_train_struct.shape)\n",
    "print(\"Model input spec:\", model_structure_only.input_shape)\n"
   ]
  },
  {
   "cell_type": "code",
   "execution_count": 50,
   "id": "e7d7de2f-bc61-4704-8fc9-223209aedb40",
   "metadata": {},
   "outputs": [
    {
     "name": "stdout",
     "output_type": "stream",
     "text": [
      "New shape of X_structure: (5671, 100, 3)\n"
     ]
    }
   ],
   "source": [
    "# Placeholder function to expand or calculate additional features\n",
    "def expand_features(data):\n",
    "    # Assuming data is (batch, timesteps, 1)\n",
    "    # Expand or calculate two additional features here\n",
    "    new_feature1 = np.random.random(data.shape)  # Placeholder for actual feature calculation\n",
    "    new_feature2 = np.random.random(data.shape)  # Placeholder for actual feature calculation\n",
    "    return np.concatenate([data, new_feature1, new_feature2], axis=-1)\n",
    "\n",
    "# Apply feature expansion\n",
    "X_structure = expand_features(X_structure)\n",
    "\n",
    "# Check the new shape\n",
    "print(\"New shape of X_structure:\", X_structure.shape)\n"
   ]
  },
  {
   "cell_type": "code",
   "execution_count": 51,
   "id": "38264608-f502-4853-ae25-c69b80741e05",
   "metadata": {},
   "outputs": [],
   "source": [
    "# print(\"Model input spec after adjustment:\", model_structure_only.input_shape)\n",
    "# model_structure_only.summary()\n"
   ]
  },
  {
   "cell_type": "code",
   "execution_count": 52,
   "id": "b73721c8-1654-421e-b179-05a69d173564",
   "metadata": {},
   "outputs": [
    {
     "name": "stdout",
     "output_type": "stream",
     "text": [
      "Final shape of X_structure: (5671, 100, 3)\n",
      "Epoch 1/10\n",
      "\u001b[1m142/142\u001b[0m \u001b[32m━━━━━━━━━━━━━━━━━━━━\u001b[0m\u001b[37m\u001b[0m \u001b[1m64s\u001b[0m 323ms/step - accuracy: 0.9733 - loss: 0.2808 - val_accuracy: 1.0000 - val_loss: 0.1431\n",
      "Epoch 2/10\n",
      "\u001b[1m142/142\u001b[0m \u001b[32m━━━━━━━━━━━━━━━━━━━━\u001b[0m\u001b[37m\u001b[0m \u001b[1m45s\u001b[0m 316ms/step - accuracy: 1.0000 - loss: 0.1200 - val_accuracy: 1.0000 - val_loss: 0.0687\n",
      "Epoch 3/10\n",
      "\u001b[1m142/142\u001b[0m \u001b[32m━━━━━━━━━━━━━━━━━━━━\u001b[0m\u001b[37m\u001b[0m \u001b[1m83s\u001b[0m 327ms/step - accuracy: 1.0000 - loss: 0.0589 - val_accuracy: 1.0000 - val_loss: 0.0369\n",
      "Epoch 4/10\n",
      "\u001b[1m142/142\u001b[0m \u001b[32m━━━━━━━━━━━━━━━━━━━━\u001b[0m\u001b[37m\u001b[0m \u001b[1m45s\u001b[0m 314ms/step - accuracy: 1.0000 - loss: 0.0325 - val_accuracy: 1.0000 - val_loss: 0.0221\n",
      "Epoch 5/10\n",
      "\u001b[1m142/142\u001b[0m \u001b[32m━━━━━━━━━━━━━━━━━━━━\u001b[0m\u001b[37m\u001b[0m \u001b[1m46s\u001b[0m 327ms/step - accuracy: 1.0000 - loss: 0.0199 - val_accuracy: 1.0000 - val_loss: 0.0144\n",
      "Epoch 6/10\n",
      "\u001b[1m142/142\u001b[0m \u001b[32m━━━━━━━━━━━━━━━━━━━━\u001b[0m\u001b[37m\u001b[0m \u001b[1m79s\u001b[0m 306ms/step - accuracy: 1.0000 - loss: 0.0131 - val_accuracy: 1.0000 - val_loss: 0.0100\n",
      "Epoch 7/10\n",
      "\u001b[1m142/142\u001b[0m \u001b[32m━━━━━━━━━━━━━━━━━━━━\u001b[0m\u001b[37m\u001b[0m \u001b[1m45s\u001b[0m 320ms/step - accuracy: 1.0000 - loss: 0.0092 - val_accuracy: 1.0000 - val_loss: 0.0072\n",
      "Epoch 8/10\n",
      "\u001b[1m142/142\u001b[0m \u001b[32m━━━━━━━━━━━━━━━━━━━━\u001b[0m\u001b[37m\u001b[0m \u001b[1m49s\u001b[0m 345ms/step - accuracy: 1.0000 - loss: 0.0067 - val_accuracy: 1.0000 - val_loss: 0.0054\n",
      "Epoch 9/10\n",
      "\u001b[1m142/142\u001b[0m \u001b[32m━━━━━━━━━━━━━━━━━━━━\u001b[0m\u001b[37m\u001b[0m \u001b[1m44s\u001b[0m 311ms/step - accuracy: 1.0000 - loss: 0.0051 - val_accuracy: 1.0000 - val_loss: 0.0042\n",
      "Epoch 10/10\n",
      "\u001b[1m142/142\u001b[0m \u001b[32m━━━━━━━━━━━━━━━━━━━━\u001b[0m\u001b[37m\u001b[0m \u001b[1m82s\u001b[0m 309ms/step - accuracy: 1.0000 - loss: 0.0040 - val_accuracy: 1.0000 - val_loss: 0.0033\n"
     ]
    }
   ],
   "source": [
    "# Verify the final input shape\n",
    "print(\"Final shape of X_structure:\", X_structure.shape)\n",
    "\n",
    "# Split the data again if necessary\n",
    "X_train_struct, X_test_struct, y_train, y_test = train_test_split(X_structure, y, test_size=0.2, random_state=42)\n",
    "history = model_structure_only.fit(\n",
    "    X_train_struct, y_train,\n",
    "    epochs=10,\n",
    "    batch_size=32,\n",
    "    validation_data=(X_test_struct, y_test)\n",
    ")\n"
   ]
  },
  {
   "cell_type": "markdown",
   "id": "5e83a31e-c230-40e8-95d0-4b7d5ce98f2f",
   "metadata": {},
   "source": [
    "# Sequence Only Model"
   ]
  },
  {
   "cell_type": "markdown",
   "id": "603bf97e-0a18-4c8a-95b5-d26e7109ed90",
   "metadata": {},
   "source": [
    "## Validate sequence data preparation "
   ]
  },
  {
   "cell_type": "code",
   "execution_count": 53,
   "id": "6f2c5451-873e-4f12-8ac9-8b616d2adb43",
   "metadata": {},
   "outputs": [
    {
     "name": "stdout",
     "output_type": "stream",
     "text": [
      "Shape of padded_sequence: (5671,)\n",
      "Sample data: [[0. 1. 0. 0.]\n",
      " [0. 0. 0. 1.]\n",
      " [0. 0. 1. 0.]\n",
      " [1. 0. 0. 0.]\n",
      " [1. 0. 0. 0.]\n",
      " [0. 1. 0. 0.]\n",
      " [1. 0. 0. 0.]\n",
      " [0. 0. 1. 0.]\n",
      " [0. 1. 0. 0.]\n",
      " [0. 1. 0. 0.]\n",
      " [1. 0. 0. 0.]\n",
      " [0. 0. 1. 0.]\n",
      " [0. 1. 0. 0.]\n",
      " [0. 1. 0. 0.]\n",
      " [0. 1. 0. 0.]\n",
      " [1. 0. 0. 0.]\n",
      " [0. 0. 1. 0.]\n",
      " [0. 0. 0. 1.]\n",
      " [1. 0. 0. 0.]\n",
      " [0. 0. 0. 1.]\n",
      " [0. 0. 1. 0.]\n",
      " [0. 1. 0. 0.]\n",
      " [0. 1. 0. 0.]\n",
      " [1. 0. 0. 0.]\n",
      " [1. 0. 0. 0.]\n",
      " [0. 0. 1. 0.]\n",
      " [0. 0. 1. 0.]\n",
      " [0. 0. 0. 1.]\n",
      " [0. 1. 0. 0.]\n",
      " [0. 0. 0. 1.]\n",
      " [0. 0. 0. 1.]\n",
      " [0. 1. 0. 0.]\n",
      " [0. 0. 0. 1.]\n",
      " [0. 1. 0. 0.]\n",
      " [0. 0. 0. 1.]\n",
      " [0. 0. 1. 0.]\n",
      " [0. 1. 0. 0.]\n",
      " [0. 0. 0. 1.]\n",
      " [0. 0. 0. 1.]\n",
      " [0. 0. 1. 0.]\n",
      " [0. 0. 1. 0.]\n",
      " [1. 0. 0. 0.]\n",
      " [0. 1. 0. 0.]\n",
      " [0. 0. 0. 1.]\n",
      " [0. 0. 0. 1.]\n",
      " [1. 0. 0. 0.]\n",
      " [0. 1. 0. 0.]\n",
      " [1. 0. 0. 0.]\n",
      " [0. 0. 1. 0.]\n",
      " [0. 0. 1. 0.]\n",
      " [1. 0. 0. 0.]\n",
      " [1. 0. 0. 0.]\n",
      " [0. 0. 1. 0.]\n",
      " [1. 0. 0. 0.]\n",
      " [1. 0. 0. 0.]\n",
      " [0. 1. 0. 0.]\n",
      " [0. 1. 0. 0.]\n",
      " [1. 0. 0. 0.]\n",
      " [0. 1. 0. 0.]\n",
      " [0. 1. 0. 0.]\n",
      " [1. 0. 0. 0.]\n",
      " [0. 0. 1. 0.]\n",
      " [0. 1. 0. 0.]\n",
      " [0. 0. 1. 0.]\n",
      " [0. 0. 1. 0.]\n",
      " [0. 0. 1. 0.]\n",
      " [0. 1. 0. 0.]\n",
      " [1. 0. 0. 0.]\n",
      " [1. 0. 0. 0.]\n",
      " [0. 0. 0. 1.]\n",
      " [0. 1. 0. 0.]\n",
      " [0. 0. 1. 0.]\n",
      " [1. 0. 0. 0.]\n",
      " [0. 0. 1. 0.]\n",
      " [0. 0. 0. 1.]\n",
      " [0. 1. 0. 0.]\n",
      " [0. 1. 0. 0.]\n",
      " [0. 0. 0. 1.]\n",
      " [0. 0. 0. 1.]\n",
      " [0. 0. 1. 0.]\n",
      " [0. 1. 0. 0.]\n",
      " [1. 0. 0. 0.]\n",
      " [0. 0. 1. 0.]\n",
      " [0. 0. 1. 0.]\n",
      " [0. 1. 0. 0.]\n",
      " [0. 1. 0. 0.]\n",
      " [1. 0. 0. 0.]\n",
      " [0. 0. 1. 0.]\n",
      " [0. 1. 0. 0.]\n",
      " [0. 1. 0. 0.]\n",
      " [0. 0. 0. 1.]\n",
      " [1. 0. 0. 0.]\n",
      " [0. 0. 1. 0.]\n",
      " [1. 0. 0. 0.]\n",
      " [0. 0. 1. 0.]\n",
      " [0. 0. 1. 0.]\n",
      " [0. 1. 0. 0.]\n",
      " [1. 0. 0. 0.]\n",
      " [0. 0. 1. 0.]\n",
      " [1. 0. 0. 0.]]\n"
     ]
    }
   ],
   "source": [
    "# Check the shape and type of the sequence data\n",
    "print(\"Shape of padded_sequence:\", lncbase_df['padded_sequence'].shape)\n",
    "print(\"Sample data:\", lncbase_df['padded_sequence'].iloc[0])\n"
   ]
  },
  {
   "cell_type": "code",
   "execution_count": 54,
   "id": "d55b6736-a83f-4f30-b627-4d976767c989",
   "metadata": {},
   "outputs": [
    {
     "name": "stderr",
     "output_type": "stream",
     "text": [
      "/home/freak/.venv/lib/python3.11/site-packages/keras/src/layers/core/input_layer.py:25: UserWarning: Argument `input_shape` is deprecated. Use `shape` instead.\n",
      "  warnings.warn(\n"
     ]
    }
   ],
   "source": [
    "def build_sequence_only_model(input_shape):\n",
    "    model = tf.keras.Sequential([\n",
    "        tf.keras.layers.InputLayer(input_shape=input_shape),\n",
    "        tf.keras.layers.Conv1D(64, 5, activation='relu', padding='same'),\n",
    "        tf.keras.layers.MaxPooling1D(2),\n",
    "        tf.keras.layers.Conv1D(128, 5, activation='relu', padding='same'),\n",
    "        tf.keras.layers.MaxPooling1D(2),\n",
    "        tf.keras.layers.Conv1D(256, 5, activation='relu', padding='same'),\n",
    "        tf.keras.layers.GlobalMaxPooling1D(),\n",
    "        tf.keras.layers.Dense(128, activation='relu'),\n",
    "        tf.keras.layers.Dense(1, activation='sigmoid')\n",
    "    ])\n",
    "\n",
    "    model.compile(optimizer='adam', loss='binary_crossentropy', metrics=['accuracy'])\n",
    "    return model\n",
    "\n",
    "# Assuming the padded sequences are correctly formatted as NumPy arrays\n",
    "X = np.array(list(lncbase_df['padded_sequence']))  # Convert column to array if it's not already\n",
    "y = lncbase_df['category'].apply(lambda x: 1 if x == 'positive' else 0).values  # Example binary classification\n",
    "\n",
    "# Build the model with the input shape based on your data\n",
    "model_seq_only = build_sequence_only_model((X.shape[1], X.shape[2]))\n",
    "\n",
    "# Now the model is built with convolutional layers only, avoiding the use of LSTM.\n"
   ]
  },
  {
   "cell_type": "code",
   "execution_count": 55,
   "id": "20397bc1-891e-49fa-b641-12e97a0a5253",
   "metadata": {},
   "outputs": [
    {
     "name": "stdout",
     "output_type": "stream",
     "text": [
      "Epoch 1/10\n",
      "\u001b[1m142/142\u001b[0m \u001b[32m━━━━━━━━━━━━━━━━━━━━\u001b[0m\u001b[37m\u001b[0m \u001b[1m6s\u001b[0m 26ms/step - accuracy: 1.0000 - loss: 0.0466 - val_accuracy: 1.0000 - val_loss: 5.0759e-20\n",
      "Epoch 2/10\n",
      "\u001b[1m142/142\u001b[0m \u001b[32m━━━━━━━━━━━━━━━━━━━━\u001b[0m\u001b[37m\u001b[0m \u001b[1m5s\u001b[0m 23ms/step - accuracy: 1.0000 - loss: 5.4228e-20 - val_accuracy: 1.0000 - val_loss: 5.0758e-20\n",
      "Epoch 3/10\n",
      "\u001b[1m142/142\u001b[0m \u001b[32m━━━━━━━━━━━━━━━━━━━━\u001b[0m\u001b[37m\u001b[0m \u001b[1m3s\u001b[0m 23ms/step - accuracy: 1.0000 - loss: 5.3579e-20 - val_accuracy: 1.0000 - val_loss: 5.0758e-20\n",
      "Epoch 4/10\n",
      "\u001b[1m142/142\u001b[0m \u001b[32m━━━━━━━━━━━━━━━━━━━━\u001b[0m\u001b[37m\u001b[0m \u001b[1m3s\u001b[0m 22ms/step - accuracy: 1.0000 - loss: 5.4890e-20 - val_accuracy: 1.0000 - val_loss: 5.0758e-20\n",
      "Epoch 5/10\n",
      "\u001b[1m142/142\u001b[0m \u001b[32m━━━━━━━━━━━━━━━━━━━━\u001b[0m\u001b[37m\u001b[0m \u001b[1m3s\u001b[0m 24ms/step - accuracy: 1.0000 - loss: 5.3940e-20 - val_accuracy: 1.0000 - val_loss: 5.0758e-20\n",
      "Epoch 6/10\n",
      "\u001b[1m142/142\u001b[0m \u001b[32m━━━━━━━━━━━━━━━━━━━━\u001b[0m\u001b[37m\u001b[0m \u001b[1m4s\u001b[0m 30ms/step - accuracy: 1.0000 - loss: 5.3733e-20 - val_accuracy: 1.0000 - val_loss: 5.0758e-20\n",
      "Epoch 7/10\n",
      "\u001b[1m142/142\u001b[0m \u001b[32m━━━━━━━━━━━━━━━━━━━━\u001b[0m\u001b[37m\u001b[0m \u001b[1m6s\u001b[0m 37ms/step - accuracy: 1.0000 - loss: 5.2920e-20 - val_accuracy: 1.0000 - val_loss: 5.0758e-20\n",
      "Epoch 8/10\n",
      "\u001b[1m142/142\u001b[0m \u001b[32m━━━━━━━━━━━━━━━━━━━━\u001b[0m\u001b[37m\u001b[0m \u001b[1m8s\u001b[0m 24ms/step - accuracy: 1.0000 - loss: 5.4790e-20 - val_accuracy: 1.0000 - val_loss: 5.0758e-20\n",
      "Epoch 9/10\n",
      "\u001b[1m142/142\u001b[0m \u001b[32m━━━━━━━━━━━━━━━━━━━━\u001b[0m\u001b[37m\u001b[0m \u001b[1m4s\u001b[0m 29ms/step - accuracy: 1.0000 - loss: 5.4112e-20 - val_accuracy: 1.0000 - val_loss: 5.0758e-20\n",
      "Epoch 10/10\n",
      "\u001b[1m142/142\u001b[0m \u001b[32m━━━━━━━━━━━━━━━━━━━━\u001b[0m\u001b[37m\u001b[0m \u001b[1m4s\u001b[0m 27ms/step - accuracy: 1.0000 - loss: 5.3166e-20 - val_accuracy: 1.0000 - val_loss: 5.0758e-20\n"
     ]
    }
   ],
   "source": [
    "X_train, X_test, y_train, y_test = train_test_split(X, y, test_size=0.2, random_state=42)\n",
    "\n",
    "history = model_seq_only.fit(\n",
    "    X_train, y_train,\n",
    "    epochs=10,\n",
    "    batch_size=32,\n",
    "    validation_data=(X_test, y_test)\n",
    ")\n"
   ]
  },
  {
   "cell_type": "code",
   "execution_count": 56,
   "id": "7ef1de5c-cbcf-419e-9ff6-c1a047496eae",
   "metadata": {},
   "outputs": [
    {
     "name": "stdout",
     "output_type": "stream",
     "text": [
      "\u001b[1m36/36\u001b[0m \u001b[32m━━━━━━━━━━━━━━━━━━━━\u001b[0m\u001b[37m\u001b[0m \u001b[1m0s\u001b[0m 7ms/step - accuracy: 1.0000 - loss: 5.2611e-20\n",
      "Test Loss: 5.075812236937805e-20, Test Accuracy: 1.0\n"
     ]
    }
   ],
   "source": [
    "evaluation = model_seq_only.evaluate(X_test, y_test)\n",
    "print(f\"Test Loss: {evaluation[0]}, Test Accuracy: {evaluation[1]}\")\n"
   ]
  },
  {
   "cell_type": "markdown",
   "id": "b538cf79-b186-40e1-b36a-aff73a55116e",
   "metadata": {},
   "source": [
    "# Sequence + Structure Model"
   ]
  },
  {
   "cell_type": "code",
   "execution_count": 57,
   "id": "6aa70157-7312-4ae0-bc37-0c18be030841",
   "metadata": {},
   "outputs": [
    {
     "name": "stdout",
     "output_type": "stream",
     "text": [
      "Shape of X_sequences_padded: (5671, 32767, 4)\n",
      "Shape of X_structures_padded: (5671, 32767)\n"
     ]
    }
   ],
   "source": [
    "from tensorflow.keras.preprocessing.sequence import pad_sequences\n",
    "\n",
    "# Assuming 'encoded_sequence' and 'encoded_structure' are lists of lists where inner lists might have variable lengths\n",
    "sequence_lengths = [len(seq) for seq in lncbase_df['encoded_sequence']]\n",
    "structure_lengths = [len(struct) for struct in lncbase_df['encoded_structure']]\n",
    "\n",
    "# Decide on a fixed length for padding based on your data's distribution or a set maximum\n",
    "max_seq_length = max(sequence_lengths)\n",
    "max_struct_length = max(structure_lengths)\n",
    "\n",
    "# Pad both sequences and structures to have the same length\n",
    "X_sequences_padded = pad_sequences(lncbase_df['encoded_sequence'], maxlen=max_seq_length, padding='post', dtype='int32')\n",
    "X_structures_padded = pad_sequences(lncbase_df['encoded_structure'], maxlen=max_struct_length, padding='post', dtype='int32')\n",
    "\n",
    "print(\"Shape of X_sequences_padded:\", X_sequences_padded.shape)\n",
    "print(\"Shape of X_structures_padded:\", X_structures_padded.shape)\n",
    "\n"
   ]
  },
  {
   "cell_type": "code",
   "execution_count": null,
   "id": "43a39011-0891-4403-8776-bab348faa6f8",
   "metadata": {},
   "outputs": [],
   "source": [
    "from tensorflow.keras.preprocessing.sequence import pad_sequences\n",
    "\n",
    "# Example of padding if 'encoded_sequence' and 'encoded_structure' are lists of integers\n",
    "X_sequences_padded = pad_sequences(lncbase_df['encoded_sequence'], maxlen=max_seq_length, padding='post', dtype='int32')\n",
    "X_structures_padded = pad_sequences(lncbase_df['encoded_structure'], maxlen=max_seq_length, padding='post', dtype='int32')\n",
    "\n",
    "# Ensure both are 2-dimensional and padded to the same length\n",
    "print(\"Rechecked Shape of X_sequences_padded:\", X_sequences_padded.shape)\n",
    "print(\"Rechecked Shape of X_structures_padded:\", X_structures_padded.shape)\n"
   ]
  },
  {
   "cell_type": "code",
   "execution_count": null,
   "id": "84a01398-da24-4e81-8971-08475a5070fa",
   "metadata": {},
   "outputs": [],
   "source": [
    "from tensorflow.keras.layers import MultiHeadAttention, LayerNormalization, Dropout, Dense\n",
    "\n",
    "def transformer_encoder(inputs, model_size, num_heads, ff_dim, dropout_rate):\n",
    "    # Multi-head self-attention\n",
    "    attention = MultiHeadAttention(num_heads=num_heads, key_dim=model_size)(inputs, inputs)\n",
    "    attention = Dropout(dropout_rate)(attention)\n",
    "    attention = LayerNormalization(epsilon=1e-6)(inputs + attention)\n",
    "\n",
    "    # Feed-forward network\n",
    "    outputs = Dense(ff_dim, activation='relu')(attention)\n",
    "    outputs = Dense(model_size)(outputs)\n",
    "    outputs = Dropout(dropout_rate)(outputs)\n",
    "    outputs = LayerNormalization(epsilon=1e-6)(attention + outputs)\n",
    "\n",
    "    return outputs\n",
    "\n",
    "def build_transformer_model(input_shape, model_size=64, num_heads=4, ff_dim=128, dropout_rate=0.1, num_layers=2):\n",
    "    inputs = tf.keras.Input(shape=input_shape)\n",
    "    x = inputs\n",
    "\n",
    "    for _ in range(num_layers):\n",
    "        x = transformer_encoder(x, model_size, num_heads, ff_dim, dropout_rate)\n",
    "\n",
    "    x = GlobalMaxPooling1D()(x)\n",
    "    x = Dense(64, activation='relu')(x)\n",
    "    outputs = Dense(1, activation='sigmoid')(x)\n",
    "\n",
    "    model = tf.keras.Model(inputs=inputs, outputs=outputs)\n",
    "    model.compile(optimizer='adam', loss='binary_crossentropy', metrics=['accuracy'])\n",
    "\n",
    "    return model\n",
    "\n",
    "# Use this model to build with the correct input shape\n",
    "model_seq_struct = build_transformer_model((X_combined.shape[1], X_combined.shape[2]))\n"
   ]
  },
  {
   "cell_type": "code",
   "execution_count": null,
   "id": "c222af12-8b9d-44e5-9948-862481333a66",
   "metadata": {},
   "outputs": [],
   "source": [
    "from sklearn.model_selection import train_test_split\n",
    "\n",
    "# Assuming 'category' column is your target and you need to convert it to a binary format\n",
    "y = lncbase_df['category'].apply(lambda x: 1 if x == 'positive' else 0).values\n",
    "\n",
    "X_train, X_test, y_train, y_test = train_test_split(X_combined, y, test_size=0.2, random_state=42)\n",
    "\n",
    "history = model_seq_struct.fit(\n",
    "    X_train, y_train,\n",
    "    epochs=30,\n",
    "    batch_size=32,\n",
    "    validation_data=(X_test, y_test)\n",
    ")\n"
   ]
  },
  {
   "cell_type": "code",
   "execution_count": null,
   "id": "f55539b1-1526-4f98-a480-606fc8685a0d",
   "metadata": {},
   "outputs": [],
   "source": []
  },
  {
   "cell_type": "code",
   "execution_count": null,
   "id": "a895d8c0-e5a4-4cb0-8fcb-31899c00a71b",
   "metadata": {},
   "outputs": [],
   "source": []
  },
  {
   "cell_type": "code",
   "execution_count": null,
   "id": "712e0b33-371c-4158-8a16-12f4e1ee92b5",
   "metadata": {},
   "outputs": [],
   "source": []
  }
 ],
 "metadata": {
  "colab": {
   "provenance": []
  },
  "kernelspec": {
   "display_name": "Python 3 (ipykernel)",
   "language": "python",
   "name": "python3"
  },
  "language_info": {
   "codemirror_mode": {
    "name": "ipython",
    "version": 3
   },
   "file_extension": ".py",
   "mimetype": "text/x-python",
   "name": "python",
   "nbconvert_exporter": "python",
   "pygments_lexer": "ipython3",
   "version": "3.11.2"
  }
 },
 "nbformat": 4,
 "nbformat_minor": 5
}
